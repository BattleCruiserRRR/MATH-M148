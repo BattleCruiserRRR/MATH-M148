{
 "cells": [
  {
   "cell_type": "code",
   "execution_count": 1,
   "id": "dcd572a5-9b74-400f-ac11-2bd82131edf7",
   "metadata": {},
   "outputs": [],
   "source": [
    "import pandas as pd\n",
    "import numpy as np\n",
    "import datetime as dt\n",
    "import math\n",
    "import matplotlib.pyplot as plt\n",
    "\n",
    "from sklearn.model_selection import GridSearchCV, train_test_split\n",
    "from sklearn.metrics import mean_squared_error, mean_absolute_error, make_scorer\n",
    "from sklearn.preprocessing import MinMaxScaler"
   ]
  },
  {
   "cell_type": "code",
   "execution_count": 2,
   "id": "ebfc4aa2-006e-4e34-ae69-20a8da9f1baf",
   "metadata": {},
   "outputs": [],
   "source": [
    "import torch\n",
    "import torch.nn as nn\n",
    "import torch.nn.functional as F\n",
    "import torch.optim as optim"
   ]
  },
  {
   "cell_type": "markdown",
   "id": "f968ee84-c6d6-4d49-997b-1ba341d55fab",
   "metadata": {},
   "source": [
    "**Data Preprocessing Based on Luke's Result**"
   ]
  },
  {
   "cell_type": "code",
   "execution_count": 3,
   "id": "a33fb272-f28d-4286-98d7-4afdd7cf2dc8",
   "metadata": {},
   "outputs": [],
   "source": [
    "f_data = pd.read_csv('no_dup_data.csv')"
   ]
  },
  {
   "cell_type": "code",
   "execution_count": 4,
   "id": "fabdbe2d-bdd2-47c4-b15a-ef76ed4bbd1c",
   "metadata": {
    "scrolled": true
   },
   "outputs": [
    {
     "data": {
      "text/html": [
       "<div>\n",
       "<style scoped>\n",
       "    .dataframe tbody tr th:only-of-type {\n",
       "        vertical-align: middle;\n",
       "    }\n",
       "\n",
       "    .dataframe tbody tr th {\n",
       "        vertical-align: top;\n",
       "    }\n",
       "\n",
       "    .dataframe thead th {\n",
       "        text-align: right;\n",
       "    }\n",
       "</style>\n",
       "<table border=\"1\" class=\"dataframe\">\n",
       "  <thead>\n",
       "    <tr style=\"text-align: right;\">\n",
       "      <th></th>\n",
       "      <th>Unnamed: 0</th>\n",
       "      <th>customer_id</th>\n",
       "      <th>account_id</th>\n",
       "      <th>ed_id</th>\n",
       "      <th>event_name</th>\n",
       "      <th>Date</th>\n",
       "      <th>Time</th>\n",
       "      <th>journey_steps_until_end</th>\n",
       "    </tr>\n",
       "  </thead>\n",
       "  <tbody>\n",
       "    <tr>\n",
       "      <th>0</th>\n",
       "      <td>0</td>\n",
       "      <td>-784961211</td>\n",
       "      <td>1773350293</td>\n",
       "      <td>12</td>\n",
       "      <td>application_web_approved</td>\n",
       "      <td>2023-03-22</td>\n",
       "      <td>08:45:22</td>\n",
       "      <td>1</td>\n",
       "    </tr>\n",
       "    <tr>\n",
       "      <th>1</th>\n",
       "      <td>1</td>\n",
       "      <td>-784961211</td>\n",
       "      <td>1773350293</td>\n",
       "      <td>19</td>\n",
       "      <td>application_web_view</td>\n",
       "      <td>2023-03-22</td>\n",
       "      <td>13:32:10</td>\n",
       "      <td>2</td>\n",
       "    </tr>\n",
       "    <tr>\n",
       "      <th>2</th>\n",
       "      <td>14</td>\n",
       "      <td>-784961211</td>\n",
       "      <td>1773350293</td>\n",
       "      <td>3</td>\n",
       "      <td>application_web_submit</td>\n",
       "      <td>2023-03-22</td>\n",
       "      <td>13:32:10</td>\n",
       "      <td>3</td>\n",
       "    </tr>\n",
       "    <tr>\n",
       "      <th>3</th>\n",
       "      <td>15</td>\n",
       "      <td>-784961211</td>\n",
       "      <td>1773350293</td>\n",
       "      <td>2</td>\n",
       "      <td>campaign_click</td>\n",
       "      <td>2023-03-22</td>\n",
       "      <td>14:45:22</td>\n",
       "      <td>4</td>\n",
       "    </tr>\n",
       "    <tr>\n",
       "      <th>4</th>\n",
       "      <td>16</td>\n",
       "      <td>-784961211</td>\n",
       "      <td>1773350293</td>\n",
       "      <td>19</td>\n",
       "      <td>application_web_view</td>\n",
       "      <td>2023-07-27</td>\n",
       "      <td>14:57:56</td>\n",
       "      <td>5</td>\n",
       "    </tr>\n",
       "    <tr>\n",
       "      <th>5</th>\n",
       "      <td>21</td>\n",
       "      <td>-784961211</td>\n",
       "      <td>1773350293</td>\n",
       "      <td>19</td>\n",
       "      <td>application_web_view</td>\n",
       "      <td>2023-08-29</td>\n",
       "      <td>16:01:06</td>\n",
       "      <td>6</td>\n",
       "    </tr>\n",
       "    <tr>\n",
       "      <th>6</th>\n",
       "      <td>24</td>\n",
       "      <td>15849251</td>\n",
       "      <td>383997507</td>\n",
       "      <td>4</td>\n",
       "      <td>browse_products</td>\n",
       "      <td>2021-11-04</td>\n",
       "      <td>14:11:15</td>\n",
       "      <td>1</td>\n",
       "    </tr>\n",
       "    <tr>\n",
       "      <th>7</th>\n",
       "      <td>25</td>\n",
       "      <td>15849251</td>\n",
       "      <td>383997507</td>\n",
       "      <td>4</td>\n",
       "      <td>browse_products</td>\n",
       "      <td>2021-11-04</td>\n",
       "      <td>14:11:29</td>\n",
       "      <td>2</td>\n",
       "    </tr>\n",
       "    <tr>\n",
       "      <th>8</th>\n",
       "      <td>26</td>\n",
       "      <td>15849251</td>\n",
       "      <td>383997507</td>\n",
       "      <td>4</td>\n",
       "      <td>browse_products</td>\n",
       "      <td>2021-11-04</td>\n",
       "      <td>14:12:10</td>\n",
       "      <td>3</td>\n",
       "    </tr>\n",
       "    <tr>\n",
       "      <th>9</th>\n",
       "      <td>27</td>\n",
       "      <td>15849251</td>\n",
       "      <td>383997507</td>\n",
       "      <td>4</td>\n",
       "      <td>browse_products</td>\n",
       "      <td>2021-11-04</td>\n",
       "      <td>14:12:21</td>\n",
       "      <td>4</td>\n",
       "    </tr>\n",
       "  </tbody>\n",
       "</table>\n",
       "</div>"
      ],
      "text/plain": [
       "   Unnamed: 0  customer_id  account_id  ed_id                event_name  \\\n",
       "0           0   -784961211  1773350293     12  application_web_approved   \n",
       "1           1   -784961211  1773350293     19      application_web_view   \n",
       "2          14   -784961211  1773350293      3    application_web_submit   \n",
       "3          15   -784961211  1773350293      2            campaign_click   \n",
       "4          16   -784961211  1773350293     19      application_web_view   \n",
       "5          21   -784961211  1773350293     19      application_web_view   \n",
       "6          24     15849251   383997507      4           browse_products   \n",
       "7          25     15849251   383997507      4           browse_products   \n",
       "8          26     15849251   383997507      4           browse_products   \n",
       "9          27     15849251   383997507      4           browse_products   \n",
       "\n",
       "         Date      Time  journey_steps_until_end  \n",
       "0  2023-03-22  08:45:22                        1  \n",
       "1  2023-03-22  13:32:10                        2  \n",
       "2  2023-03-22  13:32:10                        3  \n",
       "3  2023-03-22  14:45:22                        4  \n",
       "4  2023-07-27  14:57:56                        5  \n",
       "5  2023-08-29  16:01:06                        6  \n",
       "6  2021-11-04  14:11:15                        1  \n",
       "7  2021-11-04  14:11:29                        2  \n",
       "8  2021-11-04  14:12:10                        3  \n",
       "9  2021-11-04  14:12:21                        4  "
      ]
     },
     "execution_count": 4,
     "metadata": {},
     "output_type": "execute_result"
    }
   ],
   "source": [
    "f_data.head(10)"
   ]
  },
  {
   "cell_type": "code",
   "execution_count": 5,
   "id": "fd714221-0ede-4525-83fa-bed66ab32efe",
   "metadata": {},
   "outputs": [
    {
     "data": {
      "text/plain": [
       "(55853910, 8)"
      ]
     },
     "execution_count": 5,
     "metadata": {},
     "output_type": "execute_result"
    }
   ],
   "source": [
    "f_data.shape"
   ]
  },
  {
   "cell_type": "code",
   "execution_count": 308,
   "id": "24a7b544-2038-473d-b620-e1c7363e4a8b",
   "metadata": {},
   "outputs": [],
   "source": [
    "# a helper function to randomly sample from the original data for further RNN \n",
    "def bagging_func(n, whole_data):\n",
    "    account_ids = whole_data['account_id'].unique()\n",
    "    \n",
    "    sub_account_id = np.random.choice(account_ids, size=n, replace=False)\n",
    "    sample_f_data = whole_data[whole_data['account_id'].isin(sub_account_id)]\n",
    "\n",
    "    return sample_f_data"
   ]
  },
  {
   "cell_type": "code",
   "execution_count": 309,
   "id": "3dc32d89-12a0-4bd1-9858-cbc3382038e7",
   "metadata": {
    "scrolled": true
   },
   "outputs": [],
   "source": [
    "# getting all journeys for each account\n",
    "def journey_list(sample_f_data):\n",
    "    ed_id_lists = sample_f_data.groupby(['account_id'])['ed_id'].apply(list).reset_index()\n",
    "    \n",
    "    max_length = ed_id_lists['ed_id'].apply(len).max()\n",
    "    ed_id_lists['ed_id'] = ed_id_lists['ed_id'].apply(lambda x: x + [0] * (max_length - len(x)))\n",
    "    \n",
    "    return ed_id_lists"
   ]
  },
  {
   "cell_type": "code",
   "execution_count": 310,
   "id": "92d8bece-0059-48ac-8c6d-7282fc36488b",
   "metadata": {},
   "outputs": [],
   "source": [
    "# the code of Luke, possible future modifications, which defines what is the ultimate result\n",
    "def event_label(x):\n",
    "    act_list = np.array([29,12,15])\n",
    "    ord_list = np.array([7,18])\n",
    "\n",
    "    is_act = False\n",
    "    is_ord = False\n",
    "\n",
    "    # parse and get condition checks\n",
    "    # if any activated, \n",
    "    if any(np.in1d(x,act_list)):\n",
    "        is_act = True\n",
    "    if any(np.in1d(x,ord_list)):\n",
    "        is_ord = True\n",
    "\n",
    "    # activated only\n",
    "    if is_act == True and is_ord == False:\n",
    "        return \"Activated, No Order\"\n",
    "\n",
    "    # ordered only\n",
    "    elif is_act == False and is_ord == True:\n",
    "        return \"Ordered, Not Activated\"\n",
    "\n",
    "    # activated and ordered\n",
    "    elif is_act == True and is_ord == True:\n",
    "        return \"Activated and Ordered\"\n",
    "    \n",
    "    # accounts neither fit\n",
    "    else:\n",
    "        return \"Neither\"\n",
    "\n",
    "# vectorize function\n",
    "event_label_vec = np.vectorize(event_label)"
   ]
  },
  {
   "cell_type": "code",
   "execution_count": 311,
   "id": "f63518b0-8b91-4340-adf0-990693159d9b",
   "metadata": {},
   "outputs": [],
   "source": [
    "# discard useless labels, getting only the necessary labels for RNN model\n",
    "def binary_labels(ed_id_lists):\n",
    "    necessary_labels = [\"Activated, No Order\", \"Activated and Ordered\"]\n",
    "    ed_id_lists = ed_id_lists[ed_id_lists['customer_label'].isin(necessary_labels)]\n",
    "\n",
    "    return ed_id_lists"
   ]
  },
  {
   "cell_type": "code",
   "execution_count": 312,
   "id": "fd21010e-3740-4d1b-8218-67b7dcf26788",
   "metadata": {},
   "outputs": [],
   "source": [
    "# turning `customer_label` to true labels\n",
    "def true_labels(ed_id_lists):\n",
    "    codes, uniques = pd.factorize(ed_id_lists['customer_label'])\n",
    "    ed_id_lists['customer_label'] = codes\n",
    "\n",
    "    return ed_id_lists"
   ]
  },
  {
   "cell_type": "code",
   "execution_count": 313,
   "id": "ba7ec494-6f9a-4d51-9e94-cc2fda1ae044",
   "metadata": {},
   "outputs": [],
   "source": [
    "# combining the previous functions together\n",
    "def preprocessing(n, f_data):\n",
    "    sample_f_data = bagging_func(n, f_data)\n",
    "    sample_f_data = sample_f_data[['customer_id', 'account_id', 'ed_id', 'journey_steps_until_end']]\n",
    "    \n",
    "    ed_id_lists = journey_list(sample_f_data)\n",
    "    ed_id_lists[\"customer_label\"] = event_label_vec(ed_id_lists[\"ed_id\"])\n",
    "\n",
    "    ed_id_lists = binary_labels(ed_id_lists)\n",
    "    ed_id_lists = true_labels(ed_id_lists)\n",
    "\n",
    "    return ed_id_lists"
   ]
  },
  {
   "cell_type": "code",
   "execution_count": 314,
   "id": "94fd2564-6e3c-4ba3-abdf-c5a10c9cff7d",
   "metadata": {
    "scrolled": true
   },
   "outputs": [
    {
     "data": {
      "text/html": [
       "<div>\n",
       "<style scoped>\n",
       "    .dataframe tbody tr th:only-of-type {\n",
       "        vertical-align: middle;\n",
       "    }\n",
       "\n",
       "    .dataframe tbody tr th {\n",
       "        vertical-align: top;\n",
       "    }\n",
       "\n",
       "    .dataframe thead th {\n",
       "        text-align: right;\n",
       "    }\n",
       "</style>\n",
       "<table border=\"1\" class=\"dataframe\">\n",
       "  <thead>\n",
       "    <tr style=\"text-align: right;\">\n",
       "      <th></th>\n",
       "      <th>account_id</th>\n",
       "      <th>ed_id</th>\n",
       "      <th>customer_label</th>\n",
       "    </tr>\n",
       "  </thead>\n",
       "  <tbody>\n",
       "    <tr>\n",
       "      <th>0</th>\n",
       "      <td>-2142472542</td>\n",
       "      <td>[1, 21, 22, 2, 12, 1, 4, 11, 1, 5, 4, 11, 5, 6...</td>\n",
       "      <td>0</td>\n",
       "    </tr>\n",
       "    <tr>\n",
       "      <th>1</th>\n",
       "      <td>-2137698057</td>\n",
       "      <td>[12, 4, 4, 24, 24, 4, 4, 4, 4, 4, 4, 4, 4, 4, ...</td>\n",
       "      <td>1</td>\n",
       "    </tr>\n",
       "    <tr>\n",
       "      <th>2</th>\n",
       "      <td>-2135733428</td>\n",
       "      <td>[12, 19, 24, 1, 21, 1, 1, 21, 1, 21, 1, 1, 0, ...</td>\n",
       "      <td>1</td>\n",
       "    </tr>\n",
       "    <tr>\n",
       "      <th>3</th>\n",
       "      <td>-2130983468</td>\n",
       "      <td>[2, 4, 11, 5, 6, 19, 19, 19, 3, 19, 12, 19, 6,...</td>\n",
       "      <td>0</td>\n",
       "    </tr>\n",
       "    <tr>\n",
       "      <th>4</th>\n",
       "      <td>-2124229342</td>\n",
       "      <td>[12, 4, 24, 4, 0, 0, 0, 0, 0, 0, 0, 0, 0, 0, 0...</td>\n",
       "      <td>1</td>\n",
       "    </tr>\n",
       "    <tr>\n",
       "      <th>5</th>\n",
       "      <td>-2119376334</td>\n",
       "      <td>[21, 2, 22, 12, 0, 0, 0, 0, 0, 0, 0, 0, 0, 0, ...</td>\n",
       "      <td>1</td>\n",
       "    </tr>\n",
       "    <tr>\n",
       "      <th>6</th>\n",
       "      <td>-2113160832</td>\n",
       "      <td>[29, 12, 4, 11, 5, 6, 7, 1, 2, 4, 0, 0, 0, 0, ...</td>\n",
       "      <td>0</td>\n",
       "    </tr>\n",
       "    <tr>\n",
       "      <th>7</th>\n",
       "      <td>-2111359975</td>\n",
       "      <td>[1, 19, 19, 19, 19, 12, 4, 4, 4, 4, 29, 4, 4, ...</td>\n",
       "      <td>0</td>\n",
       "    </tr>\n",
       "    <tr>\n",
       "      <th>8</th>\n",
       "      <td>-2106361931</td>\n",
       "      <td>[2, 6, 19, 19, 19, 19, 19, 19, 3, 12, 6, 19, 1...</td>\n",
       "      <td>1</td>\n",
       "    </tr>\n",
       "    <tr>\n",
       "      <th>9</th>\n",
       "      <td>-2097829422</td>\n",
       "      <td>[12, 21, 1, 0, 0, 0, 0, 0, 0, 0, 0, 0, 0, 0, 0...</td>\n",
       "      <td>1</td>\n",
       "    </tr>\n",
       "  </tbody>\n",
       "</table>\n",
       "</div>"
      ],
      "text/plain": [
       "   account_id                                              ed_id  \\\n",
       "0 -2142472542  [1, 21, 22, 2, 12, 1, 4, 11, 1, 5, 4, 11, 5, 6...   \n",
       "1 -2137698057  [12, 4, 4, 24, 24, 4, 4, 4, 4, 4, 4, 4, 4, 4, ...   \n",
       "2 -2135733428  [12, 19, 24, 1, 21, 1, 1, 21, 1, 21, 1, 1, 0, ...   \n",
       "3 -2130983468  [2, 4, 11, 5, 6, 19, 19, 19, 3, 19, 12, 19, 6,...   \n",
       "4 -2124229342  [12, 4, 24, 4, 0, 0, 0, 0, 0, 0, 0, 0, 0, 0, 0...   \n",
       "5 -2119376334  [21, 2, 22, 12, 0, 0, 0, 0, 0, 0, 0, 0, 0, 0, ...   \n",
       "6 -2113160832  [29, 12, 4, 11, 5, 6, 7, 1, 2, 4, 0, 0, 0, 0, ...   \n",
       "7 -2111359975  [1, 19, 19, 19, 19, 12, 4, 4, 4, 4, 29, 4, 4, ...   \n",
       "8 -2106361931  [2, 6, 19, 19, 19, 19, 19, 19, 3, 12, 6, 19, 1...   \n",
       "9 -2097829422  [12, 21, 1, 0, 0, 0, 0, 0, 0, 0, 0, 0, 0, 0, 0...   \n",
       "\n",
       "   customer_label  \n",
       "0               0  \n",
       "1               1  \n",
       "2               1  \n",
       "3               0  \n",
       "4               1  \n",
       "5               1  \n",
       "6               0  \n",
       "7               0  \n",
       "8               1  \n",
       "9               1  "
      ]
     },
     "execution_count": 314,
     "metadata": {},
     "output_type": "execute_result"
    }
   ],
   "source": [
    "# take part of the dataset\n",
    "ed_id_lists = preprocessing(1000, f_data)\n",
    "ed_id_lists.head(10)"
   ]
  },
  {
   "cell_type": "code",
   "execution_count": 315,
   "id": "8272b210-310a-4deb-9ea1-7d2b8d936368",
   "metadata": {},
   "outputs": [
    {
     "data": {
      "text/plain": [
       "array([0, 1])"
      ]
     },
     "execution_count": 315,
     "metadata": {},
     "output_type": "execute_result"
    }
   ],
   "source": [
    "ed_id_lists.customer_label.unique()"
   ]
  },
  {
   "cell_type": "code",
   "execution_count": 316,
   "id": "03c9e39a-30d6-4e76-8fdf-ff14614a4f68",
   "metadata": {
    "scrolled": true
   },
   "outputs": [
    {
     "data": {
      "text/plain": [
       "count    1000.000000\n",
       "mean        0.774000\n",
       "std         0.418448\n",
       "min         0.000000\n",
       "25%         1.000000\n",
       "50%         1.000000\n",
       "75%         1.000000\n",
       "max         1.000000\n",
       "Name: customer_label, dtype: float64"
      ]
     },
     "execution_count": 316,
     "metadata": {},
     "output_type": "execute_result"
    }
   ],
   "source": [
    "ed_id_lists['customer_label'].describe()"
   ]
  },
  {
   "cell_type": "markdown",
   "id": "aa2a34ef-efce-460e-95e6-756779daa333",
   "metadata": {},
   "source": [
    "**Building RNN Model**"
   ]
  },
  {
   "cell_type": "code",
   "execution_count": 295,
   "id": "65e7b697-0bbc-4ccd-bf1c-4f52a8536b31",
   "metadata": {},
   "outputs": [],
   "source": [
    "# adding masks for each observation\n",
    "X = ed_id_lists['ed_id']  # Features\n",
    "X = X.values.tolist()\n",
    "mask = [[1 if x > 0 else x for x in sublist] for sublist in X]\n",
    "y = ed_id_lists['customer_label']  # Target variable\n",
    "y = y.values.tolist()\n",
    "\n",
    "# Split the data into training and testing sets\n",
    "X_train, X_test, y_train, y_test, mask_train, mask_test = train_test_split(X, y, mask, test_size=0.2, random_state=42)"
   ]
  },
  {
   "cell_type": "code",
   "execution_count": 296,
   "id": "982684dc-6800-4e72-872c-23309a444435",
   "metadata": {},
   "outputs": [],
   "source": [
    "train_dset = torch.utils.data.TensorDataset(torch.tensor(X_train,\n",
    "                                                         dtype=torch.long),\n",
    "                                            torch.tensor(y_train,\n",
    "                                                         dtype=torch.long),\n",
    "                                            torch.tensor(mask_train,\n",
    "                                                         dtype=torch.float))\n",
    "\n",
    "test_dset = torch.utils.data.TensorDataset(torch.tensor(X_test,\n",
    "                                                        dtype=torch.long),\n",
    "                                          torch.tensor(y_test,\n",
    "                                                        dtype=torch.long),\n",
    "                                          torch.tensor(mask_test,\n",
    "                                                        dtype=torch.float))"
   ]
  },
  {
   "cell_type": "code",
   "execution_count": 297,
   "id": "43c01968-c03f-44d9-a541-c9fd6a8305d4",
   "metadata": {},
   "outputs": [],
   "source": [
    "# getting data loader for training and predicting process\n",
    "batch_size = 128\n",
    "\n",
    "train_loader = torch.utils.data.DataLoader(train_dset,\n",
    "                          batch_size=batch_size,\n",
    "                          shuffle=True,\n",
    "                          num_workers=2\n",
    "                         )\n",
    "\n",
    "test_loader = torch.utils.data.DataLoader(test_dset,\n",
    "                          batch_size=batch_size,\n",
    "                          shuffle=False,\n",
    "                          num_workers=2\n",
    "                         )"
   ]
  },
  {
   "cell_type": "code",
   "execution_count": 298,
   "id": "14cb9626-7fe3-4f2a-ab74-a5236b6232a1",
   "metadata": {},
   "outputs": [
    {
     "name": "stdout",
     "output_type": "stream",
     "text": [
      "torch.Size([128, 345]) torch.Size([128]) torch.Size([128, 345])\n",
      "tensor([[ 2, 12,  4,  ...,  0,  0,  0],\n",
      "        [12,  2,  1,  ...,  0,  0,  0],\n",
      "        [21, 15,  1,  ...,  0,  0,  0],\n",
      "        ...,\n",
      "        [ 2,  5,  4,  ...,  0,  0,  0],\n",
      "        [ 2, 12,  4,  ...,  0,  0,  0],\n",
      "        [ 4, 11,  5,  ...,  0,  0,  0]])\n",
      "torch.Size([128, 345])\n",
      "tensor([0, 0, 0, 0, 0, 1, 0, 0, 0, 0, 0, 0, 0, 1, 0, 0, 0, 0, 1, 0, 0, 0, 0, 1,\n",
      "        0, 0, 0, 1, 0, 1, 0, 0, 0, 0, 0, 1, 0, 0, 0, 0, 1, 1, 0, 0, 1, 0, 0, 0,\n",
      "        0, 1, 0, 0, 0, 0, 0, 0, 0, 0, 0, 0, 0, 0, 0, 0, 0, 0, 0, 0, 0, 0, 1, 0,\n",
      "        0, 0, 0, 0, 0, 0, 1, 0, 0, 1, 0, 0, 0, 0, 0, 0, 0, 0, 0, 1, 0, 1, 0, 1,\n",
      "        0, 1, 0, 1, 0, 0, 1, 0, 0, 0, 0, 0, 0, 0, 0, 0, 0, 1, 0, 0, 0, 0, 0, 0,\n",
      "        0, 0, 1, 1, 0, 0, 1, 0])\n",
      "torch.Size([128])\n",
      "tensor([[1., 1., 1.,  ..., 0., 0., 0.],\n",
      "        [1., 1., 1.,  ..., 0., 0., 0.],\n",
      "        [1., 1., 1.,  ..., 0., 0., 0.],\n",
      "        ...,\n",
      "        [1., 1., 1.,  ..., 0., 0., 0.],\n",
      "        [1., 1., 1.,  ..., 0., 0., 0.],\n",
      "        [1., 1., 1.,  ..., 0., 0., 0.]])\n",
      "torch.Size([128, 345])\n"
     ]
    }
   ],
   "source": [
    "# small test of correctness\n",
    "x, y, m = next(iter(train_loader))\n",
    "print(x.shape, y.shape, m.shape)\n",
    "\n",
    "print(x)\n",
    "print(x.shape)\n",
    "print(y)\n",
    "print(y.shape)\n",
    "print(m)\n",
    "print(m.shape)"
   ]
  },
  {
   "cell_type": "code",
   "execution_count": 299,
   "id": "5d900e00-e66a-4b53-8601-9f5dd259d322",
   "metadata": {},
   "outputs": [
    {
     "name": "stdout",
     "output_type": "stream",
     "text": [
      "cpu\n"
     ]
    }
   ],
   "source": [
    "device = torch.device(\"cuda\" if torch.cuda.is_available() else \"cpu\")\n",
    "print(device)"
   ]
  },
  {
   "cell_type": "code",
   "execution_count": 300,
   "id": "882156ad-f2e9-4ade-8b18-fa7d87ddfdd6",
   "metadata": {},
   "outputs": [],
   "source": [
    "class RNNClassifier(nn.Module):\n",
    "    def __init__(self, embedding_dim, hidden_dim, vocab_size, \\\n",
    "                 num_rec_layers=1, rec_layer=nn.RNN):\n",
    "        super(RNNClassifier, self).__init__()\n",
    "        # define all layers we need,\n",
    "        # their parameters will be initialized automatically\n",
    "\n",
    "        # nn.Embedding layer turns input sentences into word embeddings\n",
    "        # with input and output dimension given by vocab_size and embedding_dim\n",
    "        # self.word_embeddings = nn.Embedding(embedding_dim)\n",
    "\n",
    "        # depending on the value of num_rec_layers, the corresponding number\n",
    "        # of rec_layers (either RNN or LSTM) with batch_first=True and hidden\n",
    "        # dimension given by hidden_dim\n",
    "        self.word_embeddings = nn.Embedding(vocab_size, embedding_dim)\n",
    "\n",
    "        self.num_rec_layers = num_rec_layers\n",
    "        self.rnn1 = rec_layer(embedding_dim, hidden_dim, batch_first=True)\n",
    "        if self.num_rec_layers == 2:\n",
    "            self.rnn2 = rec_layer(hidden_dim, hidden_dim, batch_first=True)\n",
    "\n",
    "        # a final linear layer with sigmoid activation with input and output\n",
    "        # dimension given by hidden_dim and 1.\n",
    "        self.sigmoid = nn.Sigmoid()\n",
    "        self.hidden2label = nn.Linear(hidden_dim, 1)\n",
    "\n",
    "    def forward(self, sentences, mask):\n",
    "        # sentences shape: [B, L], mask shape: [B, L]\n",
    "        # embedding = word_embeddings(embedding_dim)# call your embedding layer, output shape: [B, L, DE]\n",
    "        embedding = self.word_embeddings(sentences)\n",
    "        out, hidden = self.rnn1(embedding)# call your rnn1, output shape: [B, L, DH]\n",
    "        if self.num_rec_layers == 2:\n",
    "            out, hidden = self.rnn2(out, hidden)# call your rnn2, output shape: [B, L, DH]\n",
    "        out = (out*mask[:, :, None]).mean(dim=1) # shape: [B, DH]\n",
    "        res = self.sigmoid(self.hidden2label(out))# call your hidden2label, output shape: [B, 1]\n",
    "        #print(res)\n",
    "        #print(res.shape)\n",
    "        return res"
   ]
  },
  {
   "cell_type": "code",
   "execution_count": 244,
   "id": "16b94e66-07fb-45b4-a602-08677a80d12b",
   "metadata": {},
   "outputs": [],
   "source": [
    "class Ensemble(nn.Module):\n",
    "    def __init__(self, modelA, modelB):\n",
    "        super(Ensemble, self).__init__()\n",
    "        self.modelA = modelA\n",
    "        self.modelB = modelB\n",
    "        self.classifier = nn.Linear(2, 1)\n",
    "        self.sigmoid = nn.Sigmoid()\n",
    "        \n",
    "    def forward(self, x1, x2):\n",
    "        A = self.modelA(x1, x2)\n",
    "        B = self.modelB(x1, x2)\n",
    "        #print(A)\n",
    "        #print(B)\n",
    "        x = torch.cat((A, B), dim=1)\n",
    "        x = self.classifier(self.sigmoid(x))\n",
    "        return x"
   ]
  },
  {
   "cell_type": "code",
   "execution_count": 245,
   "id": "52d3fa8f-9a56-4d14-ad53-f35d61da01a4",
   "metadata": {},
   "outputs": [],
   "source": [
    "# create a particular instance of the model, do a 1 layer vaniila RNN with embedding_dim=hidden_dim=128\n",
    "rnn1 = RNNClassifier(128, 128, 500)\n",
    "rnn1.to(device)\n",
    "\n",
    "rnn2 = RNNClassifier(128, 128, 500)\n",
    "rnn2.to(device)\n",
    "\n",
    "rnn = Ensemble(rnn1, rnn2)"
   ]
  },
  {
   "cell_type": "code",
   "execution_count": 246,
   "id": "8f73184b-275c-4425-a854-39aa01c2f95f",
   "metadata": {},
   "outputs": [
    {
     "ename": "RuntimeError",
     "evalue": "offsets[0] has to be 0, i.e., the first sequence in the mini-batch has to start from position 0. However, got 1\n[ torch.LongTensor{} ]",
     "output_type": "error",
     "traceback": [
      "\u001b[0;31m---------------------------------------------------------------------------\u001b[0m",
      "\u001b[0;31mRuntimeError\u001b[0m                              Traceback (most recent call last)",
      "Cell \u001b[0;32mIn[246], line 6\u001b[0m\n\u001b[1;32m      4\u001b[0m \u001b[38;5;28minput\u001b[39m \u001b[38;5;241m=\u001b[39m torch\u001b[38;5;241m.\u001b[39mtensor([\u001b[38;5;241m1\u001b[39m, \u001b[38;5;241m2\u001b[39m, \u001b[38;5;241m4\u001b[39m, \u001b[38;5;241m5\u001b[39m, \u001b[38;5;241m4\u001b[39m, \u001b[38;5;241m3\u001b[39m, \u001b[38;5;241m2\u001b[39m, \u001b[38;5;241m9\u001b[39m], dtype\u001b[38;5;241m=\u001b[39mtorch\u001b[38;5;241m.\u001b[39mlong)\n\u001b[1;32m      5\u001b[0m offsets \u001b[38;5;241m=\u001b[39m torch\u001b[38;5;241m.\u001b[39mtensor([\u001b[38;5;241m1\u001b[39m, \u001b[38;5;241m4\u001b[39m, \u001b[38;5;241m4\u001b[39m, \u001b[38;5;241m5\u001b[39m, \u001b[38;5;241m6\u001b[39m, \u001b[38;5;241m4\u001b[39m, \u001b[38;5;241m3\u001b[39m, \u001b[38;5;241m1\u001b[39m], dtype\u001b[38;5;241m=\u001b[39mtorch\u001b[38;5;241m.\u001b[39mlong)\n\u001b[0;32m----> 6\u001b[0m \u001b[43membedding_sum\u001b[49m\u001b[43m(\u001b[49m\u001b[38;5;28;43minput\u001b[39;49m\u001b[43m,\u001b[49m\u001b[43m \u001b[49m\u001b[43moffsets\u001b[49m\u001b[43m)\u001b[49m\n",
      "File \u001b[0;32m~/anaconda3/envs/ML/lib/python3.10/site-packages/torch/nn/modules/module.py:1519\u001b[0m, in \u001b[0;36mModule._wrapped_call_impl\u001b[0;34m(self, *args, **kwargs)\u001b[0m\n\u001b[1;32m   1517\u001b[0m     \u001b[38;5;28;01mreturn\u001b[39;00m \u001b[38;5;28mself\u001b[39m\u001b[38;5;241m.\u001b[39m_compiled_call_impl(\u001b[38;5;241m*\u001b[39margs, \u001b[38;5;241m*\u001b[39m\u001b[38;5;241m*\u001b[39mkwargs)  \u001b[38;5;66;03m# type: ignore[misc]\u001b[39;00m\n\u001b[1;32m   1518\u001b[0m \u001b[38;5;28;01melse\u001b[39;00m:\n\u001b[0;32m-> 1519\u001b[0m     \u001b[38;5;28;01mreturn\u001b[39;00m \u001b[38;5;28;43mself\u001b[39;49m\u001b[38;5;241;43m.\u001b[39;49m\u001b[43m_call_impl\u001b[49m\u001b[43m(\u001b[49m\u001b[38;5;241;43m*\u001b[39;49m\u001b[43margs\u001b[49m\u001b[43m,\u001b[49m\u001b[43m \u001b[49m\u001b[38;5;241;43m*\u001b[39;49m\u001b[38;5;241;43m*\u001b[39;49m\u001b[43mkwargs\u001b[49m\u001b[43m)\u001b[49m\n",
      "File \u001b[0;32m~/anaconda3/envs/ML/lib/python3.10/site-packages/torch/nn/modules/module.py:1528\u001b[0m, in \u001b[0;36mModule._call_impl\u001b[0;34m(self, *args, **kwargs)\u001b[0m\n\u001b[1;32m   1523\u001b[0m \u001b[38;5;66;03m# If we don't have any hooks, we want to skip the rest of the logic in\u001b[39;00m\n\u001b[1;32m   1524\u001b[0m \u001b[38;5;66;03m# this function, and just call forward.\u001b[39;00m\n\u001b[1;32m   1525\u001b[0m \u001b[38;5;28;01mif\u001b[39;00m \u001b[38;5;129;01mnot\u001b[39;00m (\u001b[38;5;28mself\u001b[39m\u001b[38;5;241m.\u001b[39m_backward_hooks \u001b[38;5;129;01mor\u001b[39;00m \u001b[38;5;28mself\u001b[39m\u001b[38;5;241m.\u001b[39m_backward_pre_hooks \u001b[38;5;129;01mor\u001b[39;00m \u001b[38;5;28mself\u001b[39m\u001b[38;5;241m.\u001b[39m_forward_hooks \u001b[38;5;129;01mor\u001b[39;00m \u001b[38;5;28mself\u001b[39m\u001b[38;5;241m.\u001b[39m_forward_pre_hooks\n\u001b[1;32m   1526\u001b[0m         \u001b[38;5;129;01mor\u001b[39;00m _global_backward_pre_hooks \u001b[38;5;129;01mor\u001b[39;00m _global_backward_hooks\n\u001b[1;32m   1527\u001b[0m         \u001b[38;5;129;01mor\u001b[39;00m _global_forward_hooks \u001b[38;5;129;01mor\u001b[39;00m _global_forward_pre_hooks):\n\u001b[0;32m-> 1528\u001b[0m     \u001b[38;5;28;01mreturn\u001b[39;00m \u001b[43mforward_call\u001b[49m\u001b[43m(\u001b[49m\u001b[38;5;241;43m*\u001b[39;49m\u001b[43margs\u001b[49m\u001b[43m,\u001b[49m\u001b[43m \u001b[49m\u001b[38;5;241;43m*\u001b[39;49m\u001b[38;5;241;43m*\u001b[39;49m\u001b[43mkwargs\u001b[49m\u001b[43m)\u001b[49m\n\u001b[1;32m   1530\u001b[0m \u001b[38;5;28;01mtry\u001b[39;00m:\n\u001b[1;32m   1531\u001b[0m     result \u001b[38;5;241m=\u001b[39m \u001b[38;5;28;01mNone\u001b[39;00m\n",
      "File \u001b[0;32m~/anaconda3/envs/ML/lib/python3.10/site-packages/torch/nn/modules/sparse.py:389\u001b[0m, in \u001b[0;36mEmbeddingBag.forward\u001b[0;34m(self, input, offsets, per_sample_weights)\u001b[0m\n\u001b[1;32m    358\u001b[0m \u001b[38;5;28;01mdef\u001b[39;00m \u001b[38;5;21mforward\u001b[39m(\u001b[38;5;28mself\u001b[39m, \u001b[38;5;28minput\u001b[39m: Tensor, offsets: Optional[Tensor] \u001b[38;5;241m=\u001b[39m \u001b[38;5;28;01mNone\u001b[39;00m, per_sample_weights: Optional[Tensor] \u001b[38;5;241m=\u001b[39m \u001b[38;5;28;01mNone\u001b[39;00m) \u001b[38;5;241m-\u001b[39m\u001b[38;5;241m>\u001b[39m Tensor:\n\u001b[1;32m    359\u001b[0m \u001b[38;5;250m    \u001b[39m\u001b[38;5;124;03m\"\"\"Forward pass of EmbeddingBag.\u001b[39;00m\n\u001b[1;32m    360\u001b[0m \n\u001b[1;32m    361\u001b[0m \u001b[38;5;124;03m    Args:\u001b[39;00m\n\u001b[0;32m   (...)\u001b[0m\n\u001b[1;32m    387\u001b[0m \u001b[38;5;124;03m          returned vectors filled by zeros.\u001b[39;00m\n\u001b[1;32m    388\u001b[0m \u001b[38;5;124;03m    \"\"\"\u001b[39;00m\n\u001b[0;32m--> 389\u001b[0m     \u001b[38;5;28;01mreturn\u001b[39;00m \u001b[43mF\u001b[49m\u001b[38;5;241;43m.\u001b[39;49m\u001b[43membedding_bag\u001b[49m\u001b[43m(\u001b[49m\u001b[38;5;28;43minput\u001b[39;49m\u001b[43m,\u001b[49m\u001b[43m \u001b[49m\u001b[38;5;28;43mself\u001b[39;49m\u001b[38;5;241;43m.\u001b[39;49m\u001b[43mweight\u001b[49m\u001b[43m,\u001b[49m\u001b[43m \u001b[49m\u001b[43moffsets\u001b[49m\u001b[43m,\u001b[49m\n\u001b[1;32m    390\u001b[0m \u001b[43m                           \u001b[49m\u001b[38;5;28;43mself\u001b[39;49m\u001b[38;5;241;43m.\u001b[39;49m\u001b[43mmax_norm\u001b[49m\u001b[43m,\u001b[49m\u001b[43m \u001b[49m\u001b[38;5;28;43mself\u001b[39;49m\u001b[38;5;241;43m.\u001b[39;49m\u001b[43mnorm_type\u001b[49m\u001b[43m,\u001b[49m\n\u001b[1;32m    391\u001b[0m \u001b[43m                           \u001b[49m\u001b[38;5;28;43mself\u001b[39;49m\u001b[38;5;241;43m.\u001b[39;49m\u001b[43mscale_grad_by_freq\u001b[49m\u001b[43m,\u001b[49m\u001b[43m \u001b[49m\u001b[38;5;28;43mself\u001b[39;49m\u001b[38;5;241;43m.\u001b[39;49m\u001b[43mmode\u001b[49m\u001b[43m,\u001b[49m\u001b[43m \u001b[49m\u001b[38;5;28;43mself\u001b[39;49m\u001b[38;5;241;43m.\u001b[39;49m\u001b[43msparse\u001b[49m\u001b[43m,\u001b[49m\n\u001b[1;32m    392\u001b[0m \u001b[43m                           \u001b[49m\u001b[43mper_sample_weights\u001b[49m\u001b[43m,\u001b[49m\u001b[43m \u001b[49m\u001b[38;5;28;43mself\u001b[39;49m\u001b[38;5;241;43m.\u001b[39;49m\u001b[43minclude_last_offset\u001b[49m\u001b[43m,\u001b[49m\n\u001b[1;32m    393\u001b[0m \u001b[43m                           \u001b[49m\u001b[38;5;28;43mself\u001b[39;49m\u001b[38;5;241;43m.\u001b[39;49m\u001b[43mpadding_idx\u001b[49m\u001b[43m)\u001b[49m\n",
      "File \u001b[0;32m~/anaconda3/envs/ML/lib/python3.10/site-packages/torch/nn/functional.py:2425\u001b[0m, in \u001b[0;36membedding_bag\u001b[0;34m(input, weight, offsets, max_norm, norm_type, scale_grad_by_freq, mode, sparse, per_sample_weights, include_last_offset, padding_idx)\u001b[0m\n\u001b[1;32m   2418\u001b[0m \u001b[38;5;28;01mif\u001b[39;00m per_sample_weights \u001b[38;5;129;01mis\u001b[39;00m \u001b[38;5;129;01mnot\u001b[39;00m \u001b[38;5;28;01mNone\u001b[39;00m \u001b[38;5;129;01mand\u001b[39;00m mode \u001b[38;5;241m!=\u001b[39m \u001b[38;5;124m\"\u001b[39m\u001b[38;5;124msum\u001b[39m\u001b[38;5;124m\"\u001b[39m:\n\u001b[1;32m   2419\u001b[0m     \u001b[38;5;28;01mraise\u001b[39;00m \u001b[38;5;167;01mNotImplementedError\u001b[39;00m(\n\u001b[1;32m   2420\u001b[0m         \u001b[38;5;124m\"\u001b[39m\u001b[38;5;124membedding_bag: per_sample_weights was not None. \u001b[39m\u001b[38;5;124m\"\u001b[39m\n\u001b[1;32m   2421\u001b[0m         \u001b[38;5;124m\"\u001b[39m\u001b[38;5;124mper_sample_weights is only supported for mode=\u001b[39m\u001b[38;5;124m'\u001b[39m\u001b[38;5;124msum\u001b[39m\u001b[38;5;124m'\u001b[39m\u001b[38;5;124m \u001b[39m\u001b[38;5;124m\"\u001b[39m\n\u001b[1;32m   2422\u001b[0m         \u001b[38;5;124mf\u001b[39m\u001b[38;5;124m\"\u001b[39m\u001b[38;5;124m(got mode=\u001b[39m\u001b[38;5;124m'\u001b[39m\u001b[38;5;132;01m{\u001b[39;00mmode\u001b[38;5;132;01m}\u001b[39;00m\u001b[38;5;124m'\u001b[39m\u001b[38;5;124m). Please open a feature request on GitHub.\u001b[39m\u001b[38;5;124m\"\u001b[39m\n\u001b[1;32m   2423\u001b[0m     )\n\u001b[0;32m-> 2425\u001b[0m ret, _, _, _ \u001b[38;5;241m=\u001b[39m \u001b[43mtorch\u001b[49m\u001b[38;5;241;43m.\u001b[39;49m\u001b[43membedding_bag\u001b[49m\u001b[43m(\u001b[49m\n\u001b[1;32m   2426\u001b[0m \u001b[43m    \u001b[49m\u001b[43mweight\u001b[49m\u001b[43m,\u001b[49m\u001b[43m \u001b[49m\u001b[38;5;28;43minput\u001b[39;49m\u001b[43m,\u001b[49m\u001b[43m \u001b[49m\u001b[43moffsets\u001b[49m\u001b[43m,\u001b[49m\u001b[43m \u001b[49m\u001b[43mscale_grad_by_freq\u001b[49m\u001b[43m,\u001b[49m\u001b[43m \u001b[49m\u001b[43mmode_enum\u001b[49m\u001b[43m,\u001b[49m\u001b[43m \u001b[49m\u001b[43msparse\u001b[49m\u001b[43m,\u001b[49m\u001b[43m \u001b[49m\u001b[43mper_sample_weights\u001b[49m\u001b[43m,\u001b[49m\u001b[43m \u001b[49m\u001b[43minclude_last_offset\u001b[49m\u001b[43m,\u001b[49m\u001b[43m \u001b[49m\u001b[43mpadding_idx\u001b[49m\n\u001b[1;32m   2427\u001b[0m \u001b[43m\u001b[49m\u001b[43m)\u001b[49m\n\u001b[1;32m   2428\u001b[0m \u001b[38;5;28;01mreturn\u001b[39;00m ret\n",
      "\u001b[0;31mRuntimeError\u001b[0m: offsets[0] has to be 0, i.e., the first sequence in the mini-batch has to start from position 0. However, got 1\n[ torch.LongTensor{} ]"
     ]
    }
   ],
   "source": [
    "# an EmbeddingBag module containing 10 tensors of size 3\n",
    "embedding_sum = nn.EmbeddingBag(2, 3, mode='sum')\n",
    "# a batch of 2 samples of 4 indices each\n",
    "input = torch.tensor([1, 2, 4, 5, 4, 3, 2, 9], dtype=torch.long)\n",
    "offsets = torch.tensor([1, 4, 4, 5, 6, 4, 3, 1], dtype=torch.long)\n",
    "embedding_sum(input, offsets)"
   ]
  },
  {
   "cell_type": "code",
   "execution_count": 216,
   "id": "2311b3cd-d8d1-4f34-8626-3bc2549eafad",
   "metadata": {},
   "outputs": [
    {
     "data": {
      "text/plain": [
       "EmbeddingBag(10, 3, mode='sum', padding_idx=2)"
      ]
     },
     "execution_count": 216,
     "metadata": {},
     "output_type": "execute_result"
    }
   ],
   "source": [
    "embedding_sum"
   ]
  },
  {
   "cell_type": "code",
   "execution_count": 247,
   "id": "f985106e-b456-4dc0-8194-f2dcc8a81380",
   "metadata": {},
   "outputs": [
    {
     "name": "stdout",
     "output_type": "stream",
     "text": [
      "torch.Size([128, 1])\n",
      "tensor([[-0.1780],\n",
      "        [-0.1796],\n",
      "        [-0.1783],\n",
      "        [-0.1787],\n",
      "        [-0.1784],\n",
      "        [-0.1799],\n",
      "        [-0.1787],\n",
      "        [-0.1785],\n",
      "        [-0.1781],\n",
      "        [-0.1832]], grad_fn=<SliceBackward0>)\n"
     ]
    }
   ],
   "source": [
    "# demo forward pass with the mini-batch that we generated above\n",
    "device = torch.device(\"cuda\" if torch.cuda.is_available() else \"cpu\")\n",
    "x = x.to(device)\n",
    "y = y.to(device)\n",
    "m = m.to(device)\n",
    "\n",
    "y_pred = rnn(x, m)\n",
    "print(y_pred.shape)\n",
    "print(y_pred[:10])"
   ]
  },
  {
   "cell_type": "code",
   "execution_count": 210,
   "id": "7889f8b6-9296-4ad0-8a42-e9839ff8e591",
   "metadata": {},
   "outputs": [],
   "source": [
    "learning_rate = 0.01\n",
    "optimizer =optim.RMSprop(rnn.parameters(), lr=learning_rate)\n",
    "\n",
    "lossfun = nn.BCELoss(reduction='mean')"
   ]
  },
  {
   "cell_type": "code",
   "execution_count": 211,
   "id": "96e83d4e-ebe4-4943-8a36-18e171ba063c",
   "metadata": {},
   "outputs": [],
   "source": [
    "def train_epoch(train_loader, model, lossfun, optimizer, device):\n",
    "    model.train()\n",
    "    # iterate over mini-batches\n",
    "    for it, (inputs, labels, mask) in enumerate(train_loader):\n",
    "        # move everything to the device\n",
    "        inputs = inputs.to(device)\n",
    "        labels = labels.to(device)\n",
    "        mask = mask.to(device)\n",
    "\n",
    "        model.zero_grad()\n",
    "        # forward pass\n",
    "        output = model(inputs, mask)\n",
    "        #print(output)\n",
    "        #print(output.size())\n",
    "        #print(it)\n",
    "\n",
    "        loss = lossfun(output.view(-1), labels.float())\n",
    "        # backward pass\n",
    "        loss.backward()\n",
    "\n",
    "        # update model parameters\n",
    "        optimizer.step()\n",
    "\n",
    "def evaluate(loader, model, lossfun, device):\n",
    "    model.eval()\n",
    "    total_acc = 0.0\n",
    "    total_loss = 0.0\n",
    "    total = 0.0\n",
    "    # iterate over mini-batches\n",
    "    for it, (inputs, labels, mask) in enumerate(loader):\n",
    "        # move everything to the device\n",
    "        inputs = inputs.to(device)\n",
    "        labels = labels.to(device)\n",
    "        mask = mask.to(device)\n",
    "\n",
    "        # forward pass\n",
    "        output = model(inputs, mask)\n",
    "\n",
    "        # calculate loss value\n",
    "        loss = lossfun(output.view(-1), labels.float())\n",
    "        total_loss += loss.item()\n",
    "\n",
    "        # calculate test accuracy\n",
    "        pred = output.view(-1) > 0.5\n",
    "        correct = (pred == labels.bool())\n",
    "        total_acc += torch.sum(correct).item() / len(correct)\n",
    "\n",
    "    total = it + 1\n",
    "    return total_loss / total, total_acc / total\n",
    "\n",
    "\n",
    "def train(train_loader, test_loader, model, lossfun, optimizer, \\\n",
    "          device, num_epochs):\n",
    "    train_loss_ = []\n",
    "    test_loss_ = []\n",
    "    train_acc_ = []\n",
    "    test_acc_ = []\n",
    "    # irerate over training epochs\n",
    "    for epoch in range(num_epochs):\n",
    "        # at each step, we do a training epoch and evaluate on train and test data\n",
    "        train_epoch(train_loader, model, lossfun, optimizer, device)\n",
    "        train_loss, train_acc = evaluate(train_loader, model, lossfun, device)\n",
    "        train_loss_.append(train_loss)\n",
    "        train_acc_.append(train_acc)\n",
    "        test_loss, test_acc = evaluate(test_loader, model, lossfun, device)\n",
    "        test_loss_.append(test_loss)\n",
    "        test_acc_.append(test_acc)\n",
    "\n",
    "        print(f'Epoch: {epoch+1:3d}/{num_epochs:3d} '\n",
    "              f'Training Loss: {train_loss_[epoch]:.3f}, Testing Loss: {test_loss_[epoch]:.3f}, '\n",
    "              f'Training Acc: {train_acc_[epoch]:.3f}, Testing Acc: {test_acc_[epoch]:.3f}')\n",
    "\n",
    "    return train_loss_, train_acc_, test_loss_, test_acc_"
   ]
  },
  {
   "cell_type": "code",
   "execution_count": 212,
   "id": "f1ab2af0-a861-44a8-8b04-0d216fa5285b",
   "metadata": {},
   "outputs": [
    {
     "ename": "RuntimeError",
     "evalue": "all elements of input should be between 0 and 1",
     "output_type": "error",
     "traceback": [
      "\u001b[0;31m---------------------------------------------------------------------------\u001b[0m",
      "\u001b[0;31mRuntimeError\u001b[0m                              Traceback (most recent call last)",
      "Cell \u001b[0;32mIn[212], line 2\u001b[0m\n\u001b[1;32m      1\u001b[0m \u001b[38;5;66;03m# let's first train a vanilla RNN\u001b[39;00m\n\u001b[0;32m----> 2\u001b[0m a, b, c, d \u001b[38;5;241m=\u001b[39m \u001b[43mtrain\u001b[49m\u001b[43m(\u001b[49m\u001b[43mtrain_loader\u001b[49m\u001b[43m,\u001b[49m\u001b[43m \u001b[49m\u001b[43mtest_loader\u001b[49m\u001b[43m,\u001b[49m\u001b[43m \u001b[49m\u001b[43mrnn\u001b[49m\u001b[43m,\u001b[49m\u001b[43m \u001b[49m\u001b[43mlossfun\u001b[49m\u001b[43m,\u001b[49m\u001b[43m \u001b[49m\u001b[43m\\\u001b[49m\n\u001b[1;32m      3\u001b[0m \u001b[43m                   \u001b[49m\u001b[43moptimizer\u001b[49m\u001b[43m,\u001b[49m\u001b[43m \u001b[49m\u001b[43mdevice\u001b[49m\u001b[43m,\u001b[49m\u001b[43m \u001b[49m\u001b[43mnum_epochs\u001b[49m\u001b[38;5;241;43m=\u001b[39;49m\u001b[38;5;241;43m20\u001b[39;49m\u001b[43m)\u001b[49m\n",
      "Cell \u001b[0;32mIn[211], line 61\u001b[0m, in \u001b[0;36mtrain\u001b[0;34m(train_loader, test_loader, model, lossfun, optimizer, device, num_epochs)\u001b[0m\n\u001b[1;32m     58\u001b[0m \u001b[38;5;66;03m# irerate over training epochs\u001b[39;00m\n\u001b[1;32m     59\u001b[0m \u001b[38;5;28;01mfor\u001b[39;00m epoch \u001b[38;5;129;01min\u001b[39;00m \u001b[38;5;28mrange\u001b[39m(num_epochs):\n\u001b[1;32m     60\u001b[0m     \u001b[38;5;66;03m# at each step, we do a training epoch and evaluate on train and test data\u001b[39;00m\n\u001b[0;32m---> 61\u001b[0m     \u001b[43mtrain_epoch\u001b[49m\u001b[43m(\u001b[49m\u001b[43mtrain_loader\u001b[49m\u001b[43m,\u001b[49m\u001b[43m \u001b[49m\u001b[43mmodel\u001b[49m\u001b[43m,\u001b[49m\u001b[43m \u001b[49m\u001b[43mlossfun\u001b[49m\u001b[43m,\u001b[49m\u001b[43m \u001b[49m\u001b[43moptimizer\u001b[49m\u001b[43m,\u001b[49m\u001b[43m \u001b[49m\u001b[43mdevice\u001b[49m\u001b[43m)\u001b[49m\n\u001b[1;32m     62\u001b[0m     train_loss, train_acc \u001b[38;5;241m=\u001b[39m evaluate(train_loader, model, lossfun, device)\n\u001b[1;32m     63\u001b[0m     train_loss_\u001b[38;5;241m.\u001b[39mappend(train_loss)\n",
      "Cell \u001b[0;32mIn[211], line 17\u001b[0m, in \u001b[0;36mtrain_epoch\u001b[0;34m(train_loader, model, lossfun, optimizer, device)\u001b[0m\n\u001b[1;32m     12\u001b[0m output \u001b[38;5;241m=\u001b[39m model(inputs, mask)\n\u001b[1;32m     13\u001b[0m \u001b[38;5;66;03m#print(output)\u001b[39;00m\n\u001b[1;32m     14\u001b[0m \u001b[38;5;66;03m#print(output.size())\u001b[39;00m\n\u001b[1;32m     15\u001b[0m \u001b[38;5;66;03m#print(it)\u001b[39;00m\n\u001b[0;32m---> 17\u001b[0m loss \u001b[38;5;241m=\u001b[39m \u001b[43mlossfun\u001b[49m\u001b[43m(\u001b[49m\u001b[43moutput\u001b[49m\u001b[38;5;241;43m.\u001b[39;49m\u001b[43mview\u001b[49m\u001b[43m(\u001b[49m\u001b[38;5;241;43m-\u001b[39;49m\u001b[38;5;241;43m1\u001b[39;49m\u001b[43m)\u001b[49m\u001b[43m,\u001b[49m\u001b[43m \u001b[49m\u001b[43mlabels\u001b[49m\u001b[38;5;241;43m.\u001b[39;49m\u001b[43mfloat\u001b[49m\u001b[43m(\u001b[49m\u001b[43m)\u001b[49m\u001b[43m)\u001b[49m\n\u001b[1;32m     18\u001b[0m \u001b[38;5;66;03m# backward pass\u001b[39;00m\n\u001b[1;32m     19\u001b[0m loss\u001b[38;5;241m.\u001b[39mbackward()\n",
      "File \u001b[0;32m~/anaconda3/envs/ML/lib/python3.10/site-packages/torch/nn/modules/module.py:1519\u001b[0m, in \u001b[0;36mModule._wrapped_call_impl\u001b[0;34m(self, *args, **kwargs)\u001b[0m\n\u001b[1;32m   1517\u001b[0m     \u001b[38;5;28;01mreturn\u001b[39;00m \u001b[38;5;28mself\u001b[39m\u001b[38;5;241m.\u001b[39m_compiled_call_impl(\u001b[38;5;241m*\u001b[39margs, \u001b[38;5;241m*\u001b[39m\u001b[38;5;241m*\u001b[39mkwargs)  \u001b[38;5;66;03m# type: ignore[misc]\u001b[39;00m\n\u001b[1;32m   1518\u001b[0m \u001b[38;5;28;01melse\u001b[39;00m:\n\u001b[0;32m-> 1519\u001b[0m     \u001b[38;5;28;01mreturn\u001b[39;00m \u001b[38;5;28;43mself\u001b[39;49m\u001b[38;5;241;43m.\u001b[39;49m\u001b[43m_call_impl\u001b[49m\u001b[43m(\u001b[49m\u001b[38;5;241;43m*\u001b[39;49m\u001b[43margs\u001b[49m\u001b[43m,\u001b[49m\u001b[43m \u001b[49m\u001b[38;5;241;43m*\u001b[39;49m\u001b[38;5;241;43m*\u001b[39;49m\u001b[43mkwargs\u001b[49m\u001b[43m)\u001b[49m\n",
      "File \u001b[0;32m~/anaconda3/envs/ML/lib/python3.10/site-packages/torch/nn/modules/module.py:1528\u001b[0m, in \u001b[0;36mModule._call_impl\u001b[0;34m(self, *args, **kwargs)\u001b[0m\n\u001b[1;32m   1523\u001b[0m \u001b[38;5;66;03m# If we don't have any hooks, we want to skip the rest of the logic in\u001b[39;00m\n\u001b[1;32m   1524\u001b[0m \u001b[38;5;66;03m# this function, and just call forward.\u001b[39;00m\n\u001b[1;32m   1525\u001b[0m \u001b[38;5;28;01mif\u001b[39;00m \u001b[38;5;129;01mnot\u001b[39;00m (\u001b[38;5;28mself\u001b[39m\u001b[38;5;241m.\u001b[39m_backward_hooks \u001b[38;5;129;01mor\u001b[39;00m \u001b[38;5;28mself\u001b[39m\u001b[38;5;241m.\u001b[39m_backward_pre_hooks \u001b[38;5;129;01mor\u001b[39;00m \u001b[38;5;28mself\u001b[39m\u001b[38;5;241m.\u001b[39m_forward_hooks \u001b[38;5;129;01mor\u001b[39;00m \u001b[38;5;28mself\u001b[39m\u001b[38;5;241m.\u001b[39m_forward_pre_hooks\n\u001b[1;32m   1526\u001b[0m         \u001b[38;5;129;01mor\u001b[39;00m _global_backward_pre_hooks \u001b[38;5;129;01mor\u001b[39;00m _global_backward_hooks\n\u001b[1;32m   1527\u001b[0m         \u001b[38;5;129;01mor\u001b[39;00m _global_forward_hooks \u001b[38;5;129;01mor\u001b[39;00m _global_forward_pre_hooks):\n\u001b[0;32m-> 1528\u001b[0m     \u001b[38;5;28;01mreturn\u001b[39;00m \u001b[43mforward_call\u001b[49m\u001b[43m(\u001b[49m\u001b[38;5;241;43m*\u001b[39;49m\u001b[43margs\u001b[49m\u001b[43m,\u001b[49m\u001b[43m \u001b[49m\u001b[38;5;241;43m*\u001b[39;49m\u001b[38;5;241;43m*\u001b[39;49m\u001b[43mkwargs\u001b[49m\u001b[43m)\u001b[49m\n\u001b[1;32m   1530\u001b[0m \u001b[38;5;28;01mtry\u001b[39;00m:\n\u001b[1;32m   1531\u001b[0m     result \u001b[38;5;241m=\u001b[39m \u001b[38;5;28;01mNone\u001b[39;00m\n",
      "File \u001b[0;32m~/anaconda3/envs/ML/lib/python3.10/site-packages/torch/nn/modules/loss.py:618\u001b[0m, in \u001b[0;36mBCELoss.forward\u001b[0;34m(self, input, target)\u001b[0m\n\u001b[1;32m    617\u001b[0m \u001b[38;5;28;01mdef\u001b[39;00m \u001b[38;5;21mforward\u001b[39m(\u001b[38;5;28mself\u001b[39m, \u001b[38;5;28minput\u001b[39m: Tensor, target: Tensor) \u001b[38;5;241m-\u001b[39m\u001b[38;5;241m>\u001b[39m Tensor:\n\u001b[0;32m--> 618\u001b[0m     \u001b[38;5;28;01mreturn\u001b[39;00m \u001b[43mF\u001b[49m\u001b[38;5;241;43m.\u001b[39;49m\u001b[43mbinary_cross_entropy\u001b[49m\u001b[43m(\u001b[49m\u001b[38;5;28;43minput\u001b[39;49m\u001b[43m,\u001b[49m\u001b[43m \u001b[49m\u001b[43mtarget\u001b[49m\u001b[43m,\u001b[49m\u001b[43m \u001b[49m\u001b[43mweight\u001b[49m\u001b[38;5;241;43m=\u001b[39;49m\u001b[38;5;28;43mself\u001b[39;49m\u001b[38;5;241;43m.\u001b[39;49m\u001b[43mweight\u001b[49m\u001b[43m,\u001b[49m\u001b[43m \u001b[49m\u001b[43mreduction\u001b[49m\u001b[38;5;241;43m=\u001b[39;49m\u001b[38;5;28;43mself\u001b[39;49m\u001b[38;5;241;43m.\u001b[39;49m\u001b[43mreduction\u001b[49m\u001b[43m)\u001b[49m\n",
      "File \u001b[0;32m~/anaconda3/envs/ML/lib/python3.10/site-packages/torch/nn/functional.py:3127\u001b[0m, in \u001b[0;36mbinary_cross_entropy\u001b[0;34m(input, target, weight, size_average, reduce, reduction)\u001b[0m\n\u001b[1;32m   3124\u001b[0m     new_size \u001b[38;5;241m=\u001b[39m _infer_size(target\u001b[38;5;241m.\u001b[39msize(), weight\u001b[38;5;241m.\u001b[39msize())\n\u001b[1;32m   3125\u001b[0m     weight \u001b[38;5;241m=\u001b[39m weight\u001b[38;5;241m.\u001b[39mexpand(new_size)\n\u001b[0;32m-> 3127\u001b[0m \u001b[38;5;28;01mreturn\u001b[39;00m \u001b[43mtorch\u001b[49m\u001b[38;5;241;43m.\u001b[39;49m\u001b[43m_C\u001b[49m\u001b[38;5;241;43m.\u001b[39;49m\u001b[43m_nn\u001b[49m\u001b[38;5;241;43m.\u001b[39;49m\u001b[43mbinary_cross_entropy\u001b[49m\u001b[43m(\u001b[49m\u001b[38;5;28;43minput\u001b[39;49m\u001b[43m,\u001b[49m\u001b[43m \u001b[49m\u001b[43mtarget\u001b[49m\u001b[43m,\u001b[49m\u001b[43m \u001b[49m\u001b[43mweight\u001b[49m\u001b[43m,\u001b[49m\u001b[43m \u001b[49m\u001b[43mreduction_enum\u001b[49m\u001b[43m)\u001b[49m\n",
      "\u001b[0;31mRuntimeError\u001b[0m: all elements of input should be between 0 and 1"
     ]
    }
   ],
   "source": [
    "# let's first train a vanilla RNN\n",
    "a, b, c, d = train(train_loader, test_loader, rnn, lossfun, \\\n",
    "                   optimizer, device, num_epochs=20)"
   ]
  },
  {
   "cell_type": "code",
   "execution_count": 91,
   "id": "8003ddaa-6474-4f94-a2bf-59fb4f5e65bc",
   "metadata": {},
   "outputs": [],
   "source": [
    "new_sample_f_data = bagging_func(1000, account_ids)"
   ]
  },
  {
   "cell_type": "code",
   "execution_count": 92,
   "id": "4dfc9aa0-5fce-4b52-b715-9d764d7cb69a",
   "metadata": {},
   "outputs": [],
   "source": [
    "new_sample_f_data = new_sample_f_data[['customer_id', 'account_id', 'ed_id', 'journey_steps_until_end']]"
   ]
  },
  {
   "cell_type": "code",
   "execution_count": 93,
   "id": "ee0ae320-a864-4c10-a6e3-3f46f2b379f9",
   "metadata": {},
   "outputs": [
    {
     "data": {
      "text/html": [
       "<div>\n",
       "<style scoped>\n",
       "    .dataframe tbody tr th:only-of-type {\n",
       "        vertical-align: middle;\n",
       "    }\n",
       "\n",
       "    .dataframe tbody tr th {\n",
       "        vertical-align: top;\n",
       "    }\n",
       "\n",
       "    .dataframe thead th {\n",
       "        text-align: right;\n",
       "    }\n",
       "</style>\n",
       "<table border=\"1\" class=\"dataframe\">\n",
       "  <thead>\n",
       "    <tr style=\"text-align: right;\">\n",
       "      <th></th>\n",
       "      <th>account_id</th>\n",
       "      <th>ed_id</th>\n",
       "    </tr>\n",
       "  </thead>\n",
       "  <tbody>\n",
       "    <tr>\n",
       "      <th>0</th>\n",
       "      <td>-2142286233</td>\n",
       "      <td>[4, 4, 19, 19, 3, 19, 19, 12, 3, 19, 3, 19, 12...</td>\n",
       "    </tr>\n",
       "    <tr>\n",
       "      <th>1</th>\n",
       "      <td>-2140681834</td>\n",
       "      <td>[2, 12, 1, 4, 4, 4, 4, 4, 5, 4, 11, 5, 5, 6, 5...</td>\n",
       "    </tr>\n",
       "    <tr>\n",
       "      <th>2</th>\n",
       "      <td>-2136749248</td>\n",
       "      <td>[12, 0, 0, 0, 0, 0, 0, 0, 0, 0, 0, 0, 0, 0, 0,...</td>\n",
       "    </tr>\n",
       "    <tr>\n",
       "      <th>3</th>\n",
       "      <td>-2128701787</td>\n",
       "      <td>[12, 2, 4, 0, 0, 0, 0, 0, 0, 0, 0, 0, 0, 0, 0,...</td>\n",
       "    </tr>\n",
       "    <tr>\n",
       "      <th>4</th>\n",
       "      <td>-2121857580</td>\n",
       "      <td>[19, 19, 19, 19, 19, 19, 19, 19, 19, 19, 3, 12...</td>\n",
       "    </tr>\n",
       "    <tr>\n",
       "      <th>...</th>\n",
       "      <td>...</td>\n",
       "      <td>...</td>\n",
       "    </tr>\n",
       "    <tr>\n",
       "      <th>995</th>\n",
       "      <td>2120394917</td>\n",
       "      <td>[2, 12, 24, 24, 1, 21, 1, 21, 1, 1, 1, 1, 1, 1...</td>\n",
       "    </tr>\n",
       "    <tr>\n",
       "      <th>996</th>\n",
       "      <td>2122558653</td>\n",
       "      <td>[12, 1, 4, 4, 4, 4, 4, 4, 4, 4, 4, 1, 21, 21, ...</td>\n",
       "    </tr>\n",
       "    <tr>\n",
       "      <th>997</th>\n",
       "      <td>2127192426</td>\n",
       "      <td>[29, 12, 7, 5, 11, 8, 4, 6, 2, 4, 27, 28, 0, 0...</td>\n",
       "    </tr>\n",
       "    <tr>\n",
       "      <th>998</th>\n",
       "      <td>2138084987</td>\n",
       "      <td>[12, 18, 24, 24, 24, 24, 24, 0, 0, 0, 0, 0, 0,...</td>\n",
       "    </tr>\n",
       "    <tr>\n",
       "      <th>999</th>\n",
       "      <td>2138530473</td>\n",
       "      <td>[12, 1, 3, 19, 4, 5, 11, 6, 2, 4, 5, 5, 5, 4, ...</td>\n",
       "    </tr>\n",
       "  </tbody>\n",
       "</table>\n",
       "<p>1000 rows × 2 columns</p>\n",
       "</div>"
      ],
      "text/plain": [
       "     account_id                                              ed_id\n",
       "0   -2142286233  [4, 4, 19, 19, 3, 19, 19, 12, 3, 19, 3, 19, 12...\n",
       "1   -2140681834  [2, 12, 1, 4, 4, 4, 4, 4, 5, 4, 11, 5, 5, 6, 5...\n",
       "2   -2136749248  [12, 0, 0, 0, 0, 0, 0, 0, 0, 0, 0, 0, 0, 0, 0,...\n",
       "3   -2128701787  [12, 2, 4, 0, 0, 0, 0, 0, 0, 0, 0, 0, 0, 0, 0,...\n",
       "4   -2121857580  [19, 19, 19, 19, 19, 19, 19, 19, 19, 19, 3, 12...\n",
       "..          ...                                                ...\n",
       "995  2120394917  [2, 12, 24, 24, 1, 21, 1, 21, 1, 1, 1, 1, 1, 1...\n",
       "996  2122558653  [12, 1, 4, 4, 4, 4, 4, 4, 4, 4, 4, 1, 21, 21, ...\n",
       "997  2127192426  [29, 12, 7, 5, 11, 8, 4, 6, 2, 4, 27, 28, 0, 0...\n",
       "998  2138084987  [12, 18, 24, 24, 24, 24, 24, 0, 0, 0, 0, 0, 0,...\n",
       "999  2138530473  [12, 1, 3, 19, 4, 5, 11, 6, 2, 4, 5, 5, 5, 4, ...\n",
       "\n",
       "[1000 rows x 2 columns]"
      ]
     },
     "execution_count": 93,
     "metadata": {},
     "output_type": "execute_result"
    }
   ],
   "source": [
    "# getting all journeys for each account\n",
    "new_ed_id_lists = new_sample_f_data.groupby(['account_id'])['ed_id'].apply(list).reset_index()\n",
    "\n",
    "max_length = new_ed_id_lists['ed_id'].apply(len).max()\n",
    "new_ed_id_lists['ed_id'] = new_ed_id_lists['ed_id'].apply(lambda x: x + [0] * (max_length - len(x)))\n",
    "\n",
    "new_ed_id_lists"
   ]
  },
  {
   "cell_type": "code",
   "execution_count": 94,
   "id": "7b661bc1-d974-4267-81ea-0bab2259e338",
   "metadata": {},
   "outputs": [],
   "source": [
    "new_event_label_vec = np.vectorize(event_label)\n",
    "new_ed_id_lists[\"customer_label\"] = new_event_label_vec(new_ed_id_lists[\"ed_id\"])"
   ]
  },
  {
   "cell_type": "code",
   "execution_count": 95,
   "id": "72b861b8-1a7e-4a81-a2c6-f10f7f17d289",
   "metadata": {},
   "outputs": [
    {
     "data": {
      "text/html": [
       "<div>\n",
       "<style scoped>\n",
       "    .dataframe tbody tr th:only-of-type {\n",
       "        vertical-align: middle;\n",
       "    }\n",
       "\n",
       "    .dataframe tbody tr th {\n",
       "        vertical-align: top;\n",
       "    }\n",
       "\n",
       "    .dataframe thead th {\n",
       "        text-align: right;\n",
       "    }\n",
       "</style>\n",
       "<table border=\"1\" class=\"dataframe\">\n",
       "  <thead>\n",
       "    <tr style=\"text-align: right;\">\n",
       "      <th></th>\n",
       "      <th>account_id</th>\n",
       "      <th>ed_id</th>\n",
       "      <th>customer_label</th>\n",
       "    </tr>\n",
       "  </thead>\n",
       "  <tbody>\n",
       "    <tr>\n",
       "      <th>0</th>\n",
       "      <td>-2147441542</td>\n",
       "      <td>[22, 2, 19, 19, 19, 19, 19, 3, 12, 4, 1, 1, 1,...</td>\n",
       "      <td>0</td>\n",
       "    </tr>\n",
       "    <tr>\n",
       "      <th>1</th>\n",
       "      <td>-2146729686</td>\n",
       "      <td>[2, 19, 19, 19, 3, 19, 12, 19, 4, 4, 4, 4, 4, ...</td>\n",
       "      <td>1</td>\n",
       "    </tr>\n",
       "    <tr>\n",
       "      <th>2</th>\n",
       "      <td>-2146530361</td>\n",
       "      <td>[29, 2, 19, 19, 19, 19, 19, 19, 3, 19, 3, 12, ...</td>\n",
       "      <td>1</td>\n",
       "    </tr>\n",
       "    <tr>\n",
       "      <th>3</th>\n",
       "      <td>-2146371138</td>\n",
       "      <td>[29, 2, 12, 4, 4, 11, 5, 4, 11, 5, 6, 7, 8, 27...</td>\n",
       "      <td>1</td>\n",
       "    </tr>\n",
       "    <tr>\n",
       "      <th>4</th>\n",
       "      <td>-2145897751</td>\n",
       "      <td>[21, 12, 2, 29, 4, 4, 4, 4, 4, 4, 4, 11, 1, 5,...</td>\n",
       "      <td>1</td>\n",
       "    </tr>\n",
       "  </tbody>\n",
       "</table>\n",
       "</div>"
      ],
      "text/plain": [
       "   account_id                                              ed_id  \\\n",
       "0 -2147441542  [22, 2, 19, 19, 19, 19, 19, 3, 12, 4, 1, 1, 1,...   \n",
       "1 -2146729686  [2, 19, 19, 19, 3, 19, 12, 19, 4, 4, 4, 4, 4, ...   \n",
       "2 -2146530361  [29, 2, 19, 19, 19, 19, 19, 19, 3, 19, 3, 12, ...   \n",
       "3 -2146371138  [29, 2, 12, 4, 4, 11, 5, 4, 11, 5, 6, 7, 8, 27...   \n",
       "4 -2145897751  [21, 12, 2, 29, 4, 4, 4, 4, 4, 4, 4, 11, 1, 5,...   \n",
       "\n",
       "   customer_label  \n",
       "0               0  \n",
       "1               1  \n",
       "2               1  \n",
       "3               1  \n",
       "4               1  "
      ]
     },
     "execution_count": 95,
     "metadata": {},
     "output_type": "execute_result"
    }
   ],
   "source": [
    "ed_id_lists.head()"
   ]
  },
  {
   "cell_type": "code",
   "execution_count": 96,
   "id": "854418e6-f134-41b9-b9bb-2052375dbda1",
   "metadata": {},
   "outputs": [],
   "source": [
    "necessary_labels = [\"Activated, No Order\", \"Activated and Ordered\"]"
   ]
  },
  {
   "cell_type": "code",
   "execution_count": 97,
   "id": "f10b5feb-8fc4-4948-b5df-2843d20e4a5f",
   "metadata": {},
   "outputs": [],
   "source": [
    "new_ed_id_lists = new_ed_id_lists[new_ed_id_lists['customer_label'].isin(necessary_labels)]"
   ]
  },
  {
   "cell_type": "code",
   "execution_count": 98,
   "id": "005f4bbe-d995-40f6-9172-25510644cbc9",
   "metadata": {},
   "outputs": [],
   "source": [
    "codes, uniques = pd.factorize(new_ed_id_lists['customer_label'])\n",
    "new_ed_id_lists['customer_label'] = codes"
   ]
  },
  {
   "cell_type": "code",
   "execution_count": 99,
   "id": "089bec0d-16a0-40b5-aa82-b537e54b3b07",
   "metadata": {},
   "outputs": [
    {
     "data": {
      "text/html": [
       "<div>\n",
       "<style scoped>\n",
       "    .dataframe tbody tr th:only-of-type {\n",
       "        vertical-align: middle;\n",
       "    }\n",
       "\n",
       "    .dataframe tbody tr th {\n",
       "        vertical-align: top;\n",
       "    }\n",
       "\n",
       "    .dataframe thead th {\n",
       "        text-align: right;\n",
       "    }\n",
       "</style>\n",
       "<table border=\"1\" class=\"dataframe\">\n",
       "  <thead>\n",
       "    <tr style=\"text-align: right;\">\n",
       "      <th></th>\n",
       "      <th>account_id</th>\n",
       "      <th>ed_id</th>\n",
       "      <th>customer_label</th>\n",
       "    </tr>\n",
       "  </thead>\n",
       "  <tbody>\n",
       "    <tr>\n",
       "      <th>0</th>\n",
       "      <td>-2142286233</td>\n",
       "      <td>[4, 4, 19, 19, 3, 19, 19, 12, 3, 19, 3, 19, 12...</td>\n",
       "      <td>0</td>\n",
       "    </tr>\n",
       "    <tr>\n",
       "      <th>1</th>\n",
       "      <td>-2140681834</td>\n",
       "      <td>[2, 12, 1, 4, 4, 4, 4, 4, 5, 4, 11, 5, 5, 6, 5...</td>\n",
       "      <td>0</td>\n",
       "    </tr>\n",
       "    <tr>\n",
       "      <th>2</th>\n",
       "      <td>-2136749248</td>\n",
       "      <td>[12, 0, 0, 0, 0, 0, 0, 0, 0, 0, 0, 0, 0, 0, 0,...</td>\n",
       "      <td>0</td>\n",
       "    </tr>\n",
       "    <tr>\n",
       "      <th>3</th>\n",
       "      <td>-2128701787</td>\n",
       "      <td>[12, 2, 4, 0, 0, 0, 0, 0, 0, 0, 0, 0, 0, 0, 0,...</td>\n",
       "      <td>0</td>\n",
       "    </tr>\n",
       "    <tr>\n",
       "      <th>4</th>\n",
       "      <td>-2121857580</td>\n",
       "      <td>[19, 19, 19, 19, 19, 19, 19, 19, 19, 19, 3, 12...</td>\n",
       "      <td>0</td>\n",
       "    </tr>\n",
       "    <tr>\n",
       "      <th>5</th>\n",
       "      <td>-2118091065</td>\n",
       "      <td>[19, 19, 3, 19, 19, 3, 19, 19, 3, 19, 12, 1, 1...</td>\n",
       "      <td>0</td>\n",
       "    </tr>\n",
       "    <tr>\n",
       "      <th>6</th>\n",
       "      <td>-2115722991</td>\n",
       "      <td>[2, 12, 24, 1, 21, 1, 5, 5, 4, 4, 4, 21, 24, 2...</td>\n",
       "      <td>0</td>\n",
       "    </tr>\n",
       "    <tr>\n",
       "      <th>7</th>\n",
       "      <td>-2108323954</td>\n",
       "      <td>[21, 2, 12, 4, 4, 4, 4, 4, 4, 4, 4, 4, 4, 11, ...</td>\n",
       "      <td>0</td>\n",
       "    </tr>\n",
       "    <tr>\n",
       "      <th>8</th>\n",
       "      <td>-2106285406</td>\n",
       "      <td>[29, 15, 18, 27, 28, 0, 0, 0, 0, 0, 0, 0, 0, 0...</td>\n",
       "      <td>1</td>\n",
       "    </tr>\n",
       "    <tr>\n",
       "      <th>9</th>\n",
       "      <td>-2103642482</td>\n",
       "      <td>[2, 22, 12, 1, 1, 21, 1, 1, 1, 1, 21, 1, 1, 0,...</td>\n",
       "      <td>0</td>\n",
       "    </tr>\n",
       "  </tbody>\n",
       "</table>\n",
       "</div>"
      ],
      "text/plain": [
       "   account_id                                              ed_id  \\\n",
       "0 -2142286233  [4, 4, 19, 19, 3, 19, 19, 12, 3, 19, 3, 19, 12...   \n",
       "1 -2140681834  [2, 12, 1, 4, 4, 4, 4, 4, 5, 4, 11, 5, 5, 6, 5...   \n",
       "2 -2136749248  [12, 0, 0, 0, 0, 0, 0, 0, 0, 0, 0, 0, 0, 0, 0,...   \n",
       "3 -2128701787  [12, 2, 4, 0, 0, 0, 0, 0, 0, 0, 0, 0, 0, 0, 0,...   \n",
       "4 -2121857580  [19, 19, 19, 19, 19, 19, 19, 19, 19, 19, 3, 12...   \n",
       "5 -2118091065  [19, 19, 3, 19, 19, 3, 19, 19, 3, 19, 12, 1, 1...   \n",
       "6 -2115722991  [2, 12, 24, 1, 21, 1, 5, 5, 4, 4, 4, 21, 24, 2...   \n",
       "7 -2108323954  [21, 2, 12, 4, 4, 4, 4, 4, 4, 4, 4, 4, 4, 11, ...   \n",
       "8 -2106285406  [29, 15, 18, 27, 28, 0, 0, 0, 0, 0, 0, 0, 0, 0...   \n",
       "9 -2103642482  [2, 22, 12, 1, 1, 21, 1, 1, 1, 1, 21, 1, 1, 0,...   \n",
       "\n",
       "   customer_label  \n",
       "0               0  \n",
       "1               0  \n",
       "2               0  \n",
       "3               0  \n",
       "4               0  \n",
       "5               0  \n",
       "6               0  \n",
       "7               0  \n",
       "8               1  \n",
       "9               0  "
      ]
     },
     "execution_count": 99,
     "metadata": {},
     "output_type": "execute_result"
    }
   ],
   "source": [
    "new_ed_id_lists.head(10)"
   ]
  },
  {
   "cell_type": "code",
   "execution_count": 100,
   "id": "b65d1f54-0ee0-42d8-8ab2-48a1c3efd71b",
   "metadata": {},
   "outputs": [],
   "source": [
    "new_X = new_ed_id_lists['ed_id']  # Features\n",
    "new_X = new_X.values.tolist()\n",
    "new_mask = [[1 if x > 0 else x for x in sublist] for sublist in new_X]\n",
    "new_y = new_ed_id_lists['customer_label']  # Target variable\n",
    "new_y = new_y.values.tolist()"
   ]
  },
  {
   "cell_type": "code",
   "execution_count": 101,
   "id": "c39b0c48-cbeb-4fef-867d-19a47460e213",
   "metadata": {},
   "outputs": [],
   "source": [
    "# need to get the data from Luke and then perform testing part\n",
    "test_dataset = torch.utils.data.TensorDataset(torch.tensor(new_X,\n",
    "                                                        dtype=torch.long),\n",
    "                                          torch.tensor(new_y,\n",
    "                                                        dtype=torch.long),\n",
    "                                          torch.tensor(new_mask,\n",
    "                                                        dtype=torch.float))"
   ]
  },
  {
   "cell_type": "code",
   "execution_count": 102,
   "id": "36befe61-e68c-44c6-827f-1ab324a900d0",
   "metadata": {},
   "outputs": [],
   "source": [
    "new_import_test_loader = torch.utils.data.DataLoader(test_dataset,\n",
    "                          batch_size=batch_size,\n",
    "                          shuffle=False,\n",
    "                          num_workers=2\n",
    "                         )"
   ]
  },
  {
   "cell_type": "code",
   "execution_count": 103,
   "id": "e6c65700-e0bd-4319-b76c-285e2acfd231",
   "metadata": {},
   "outputs": [
    {
     "name": "stdout",
     "output_type": "stream",
     "text": [
      "0.1267022704705596\n",
      "0.9788161057692307\n"
     ]
    }
   ],
   "source": [
    "test_loss, test_acc = evaluate(new_import_test_loader, rnn, lossfun, device)\n",
    "print(test_loss)\n",
    "print(test_acc)"
   ]
  },
  {
   "cell_type": "code",
   "execution_count": null,
   "id": "787afa8a-ee3f-4251-8211-b8e2e2d02f25",
   "metadata": {},
   "outputs": [],
   "source": []
  }
 ],
 "metadata": {
  "kernelspec": {
   "display_name": "Python 3 (ipykernel)",
   "language": "python",
   "name": "python3"
  },
  "language_info": {
   "codemirror_mode": {
    "name": "ipython",
    "version": 3
   },
   "file_extension": ".py",
   "mimetype": "text/x-python",
   "name": "python",
   "nbconvert_exporter": "python",
   "pygments_lexer": "ipython3",
   "version": "3.10.13"
  }
 },
 "nbformat": 4,
 "nbformat_minor": 5
}
