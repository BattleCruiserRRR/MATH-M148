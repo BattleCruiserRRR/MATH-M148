{
 "cells": [
  {
   "cell_type": "code",
   "execution_count": 3,
   "id": "dcd572a5-9b74-400f-ac11-2bd82131edf7",
   "metadata": {},
   "outputs": [],
   "source": [
    "import pandas as pd\n",
    "import numpy as np\n",
    "import datetime as dt\n",
    "import math\n",
    "import matplotlib.pyplot as plt\n",
    "\n",
    "from sklearn.model_selection import GridSearchCV, train_test_split\n",
    "from sklearn.metrics import mean_squared_error, mean_absolute_error, make_scorer\n",
    "from sklearn.preprocessing import MinMaxScaler\n",
    "\n",
    "#from scikeras.wrappers import KerasRegressor\n",
    "\n",
    "#import tensorflow as tf\n",
    "#from tensorflow.keras.models import Sequential\n",
    "#from tensorflow.keras.layers import Dense,Dropout,LSTM,GRU,SimpleRNN"
   ]
  },
  {
   "cell_type": "code",
   "execution_count": 4,
   "id": "ebfc4aa2-006e-4e34-ae69-20a8da9f1baf",
   "metadata": {},
   "outputs": [],
   "source": [
    "import torch\n",
    "import torch.nn as nn\n",
    "import torch.nn.functional as F\n",
    "import torch.optim as optim"
   ]
  },
  {
   "cell_type": "markdown",
   "id": "f968ee84-c6d6-4d49-997b-1ba341d55fab",
   "metadata": {},
   "source": [
    "**Data Preprocessing Based on Luke's Result**"
   ]
  },
  {
   "cell_type": "code",
   "execution_count": 5,
   "id": "a33fb272-f28d-4286-98d7-4afdd7cf2dc8",
   "metadata": {},
   "outputs": [],
   "source": [
    "f_data = pd.read_csv('no_dup_data.csv')"
   ]
  },
  {
   "cell_type": "code",
   "execution_count": 92,
   "id": "94fd2564-6e3c-4ba3-abdf-c5a10c9cff7d",
   "metadata": {},
   "outputs": [],
   "source": [
    "# take part of the dataset\n",
    "sample_f_data = f_data[:1000]"
   ]
  },
  {
   "cell_type": "code",
   "execution_count": 7,
   "id": "1040fa2b-0a53-42da-91b5-c78b6aa154f7",
   "metadata": {},
   "outputs": [],
   "source": [
    "sample_f_data = sample_f_data[['customer_id', 'account_id', 'ed_id', 'journey_steps_until_end']]"
   ]
  },
  {
   "cell_type": "code",
   "execution_count": 8,
   "id": "cd6c93c9-3edf-4516-b15b-8b19bd48ccb4",
   "metadata": {},
   "outputs": [],
   "source": [
    "#sample_f_data.to_csv('sample_data.csv')"
   ]
  },
  {
   "cell_type": "code",
   "execution_count": 9,
   "id": "ca77ab04-8815-4e91-9760-09dedf8b33e4",
   "metadata": {},
   "outputs": [
    {
     "data": {
      "text/html": [
       "<div>\n",
       "<style scoped>\n",
       "    .dataframe tbody tr th:only-of-type {\n",
       "        vertical-align: middle;\n",
       "    }\n",
       "\n",
       "    .dataframe tbody tr th {\n",
       "        vertical-align: top;\n",
       "    }\n",
       "\n",
       "    .dataframe thead th {\n",
       "        text-align: right;\n",
       "    }\n",
       "</style>\n",
       "<table border=\"1\" class=\"dataframe\">\n",
       "  <thead>\n",
       "    <tr style=\"text-align: right;\">\n",
       "      <th></th>\n",
       "      <th>customer_id</th>\n",
       "      <th>account_id</th>\n",
       "      <th>ed_id</th>\n",
       "      <th>journey_steps_until_end</th>\n",
       "    </tr>\n",
       "  </thead>\n",
       "  <tbody>\n",
       "    <tr>\n",
       "      <th>576</th>\n",
       "      <td>-1554036291</td>\n",
       "      <td>-1199609206</td>\n",
       "      <td>15</td>\n",
       "      <td>1</td>\n",
       "    </tr>\n",
       "  </tbody>\n",
       "</table>\n",
       "</div>"
      ],
      "text/plain": [
       "     customer_id  account_id  ed_id  journey_steps_until_end\n",
       "576  -1554036291 -1199609206     15                        1"
      ]
     },
     "execution_count": 9,
     "metadata": {},
     "output_type": "execute_result"
    }
   ],
   "source": [
    "sample_f_data[sample_f_data['account_id'] == -1199609206].head(5)"
   ]
  },
  {
   "cell_type": "code",
   "execution_count": 10,
   "id": "3dc32d89-12a0-4bd1-9858-cbc3382038e7",
   "metadata": {
    "scrolled": true
   },
   "outputs": [
    {
     "data": {
      "text/html": [
       "<div>\n",
       "<style scoped>\n",
       "    .dataframe tbody tr th:only-of-type {\n",
       "        vertical-align: middle;\n",
       "    }\n",
       "\n",
       "    .dataframe tbody tr th {\n",
       "        vertical-align: top;\n",
       "    }\n",
       "\n",
       "    .dataframe thead th {\n",
       "        text-align: right;\n",
       "    }\n",
       "</style>\n",
       "<table border=\"1\" class=\"dataframe\">\n",
       "  <thead>\n",
       "    <tr style=\"text-align: right;\">\n",
       "      <th></th>\n",
       "      <th>customer_id</th>\n",
       "      <th>account_id</th>\n",
       "      <th>ed_id</th>\n",
       "    </tr>\n",
       "  </thead>\n",
       "  <tbody>\n",
       "    <tr>\n",
       "      <th>0</th>\n",
       "      <td>-2133016776</td>\n",
       "      <td>1442088117</td>\n",
       "      <td>[12, 4, 3, 19, 24, 4, 1, 4, 11, 4, 5, 11, 6, 4...</td>\n",
       "    </tr>\n",
       "    <tr>\n",
       "      <th>1</th>\n",
       "      <td>-2124872601</td>\n",
       "      <td>1448775641</td>\n",
       "      <td>[29, 19, 19, 19, 19, 19, 19, 3, 12, 5, 5, 4, 4...</td>\n",
       "    </tr>\n",
       "    <tr>\n",
       "      <th>2</th>\n",
       "      <td>-2124427253</td>\n",
       "      <td>-1861676870</td>\n",
       "      <td>[19, 19, 19, 3, 19, 3, 19, 19, 12, 19, 2, 4, 4...</td>\n",
       "    </tr>\n",
       "    <tr>\n",
       "      <th>3</th>\n",
       "      <td>-2103242255</td>\n",
       "      <td>2034732712</td>\n",
       "      <td>[19, 19, 3, 19, 19, 3, 19, 19, 19, 3, 12, 4, 1...</td>\n",
       "    </tr>\n",
       "    <tr>\n",
       "      <th>4</th>\n",
       "      <td>-2101937295</td>\n",
       "      <td>958613450</td>\n",
       "      <td>[2, 6, 19, 19, 3, 19, 19, 3, 19, 19, 3, 19, 19...</td>\n",
       "    </tr>\n",
       "    <tr>\n",
       "      <th>...</th>\n",
       "      <td>...</td>\n",
       "      <td>...</td>\n",
       "      <td>...</td>\n",
       "    </tr>\n",
       "    <tr>\n",
       "      <th>309</th>\n",
       "      <td>2093003863</td>\n",
       "      <td>1949987557</td>\n",
       "      <td>[19, 19, 19, 3, 12, 19, 4, 11, 4, 4, 4, 11, 4,...</td>\n",
       "    </tr>\n",
       "    <tr>\n",
       "      <th>310</th>\n",
       "      <td>2106847638</td>\n",
       "      <td>1673406310</td>\n",
       "      <td>[1, 19, 19, 3, 19, 19, 12, 19, 4, 4, 4, 1, 4, ...</td>\n",
       "    </tr>\n",
       "    <tr>\n",
       "      <th>311</th>\n",
       "      <td>2117096751</td>\n",
       "      <td>-1885164450</td>\n",
       "      <td>[12, 3, 4, 19, 0, 0, 0, 0, 0, 0, 0, 0, 0, 0, 0...</td>\n",
       "    </tr>\n",
       "    <tr>\n",
       "      <th>312</th>\n",
       "      <td>2143090910</td>\n",
       "      <td>-297097202</td>\n",
       "      <td>[19, 19, 19, 19, 19, 19, 19, 19, 3, 19, 12, 4,...</td>\n",
       "    </tr>\n",
       "    <tr>\n",
       "      <th>313</th>\n",
       "      <td>2146586206</td>\n",
       "      <td>1176399212</td>\n",
       "      <td>[2, 12, 19, 4, 3, 4, 4, 29, 5, 6, 8, 4, 11, 7,...</td>\n",
       "    </tr>\n",
       "  </tbody>\n",
       "</table>\n",
       "<p>314 rows × 3 columns</p>\n",
       "</div>"
      ],
      "text/plain": [
       "     customer_id  account_id  \\\n",
       "0    -2133016776  1442088117   \n",
       "1    -2124872601  1448775641   \n",
       "2    -2124427253 -1861676870   \n",
       "3    -2103242255  2034732712   \n",
       "4    -2101937295   958613450   \n",
       "..           ...         ...   \n",
       "309   2093003863  1949987557   \n",
       "310   2106847638  1673406310   \n",
       "311   2117096751 -1885164450   \n",
       "312   2143090910  -297097202   \n",
       "313   2146586206  1176399212   \n",
       "\n",
       "                                                 ed_id  \n",
       "0    [12, 4, 3, 19, 24, 4, 1, 4, 11, 4, 5, 11, 6, 4...  \n",
       "1    [29, 19, 19, 19, 19, 19, 19, 3, 12, 5, 5, 4, 4...  \n",
       "2    [19, 19, 19, 3, 19, 3, 19, 19, 12, 19, 2, 4, 4...  \n",
       "3    [19, 19, 3, 19, 19, 3, 19, 19, 19, 3, 12, 4, 1...  \n",
       "4    [2, 6, 19, 19, 3, 19, 19, 3, 19, 19, 3, 19, 19...  \n",
       "..                                                 ...  \n",
       "309  [19, 19, 19, 3, 12, 19, 4, 11, 4, 4, 4, 11, 4,...  \n",
       "310  [1, 19, 19, 3, 19, 19, 12, 19, 4, 4, 4, 1, 4, ...  \n",
       "311  [12, 3, 4, 19, 0, 0, 0, 0, 0, 0, 0, 0, 0, 0, 0...  \n",
       "312  [19, 19, 19, 19, 19, 19, 19, 19, 3, 19, 12, 4,...  \n",
       "313  [2, 12, 19, 4, 3, 4, 4, 29, 5, 6, 8, 4, 11, 7,...  \n",
       "\n",
       "[314 rows x 3 columns]"
      ]
     },
     "execution_count": 10,
     "metadata": {},
     "output_type": "execute_result"
    }
   ],
   "source": [
    "# getting all journeys for each account\n",
    "ed_id_lists = sample_f_data.groupby(['customer_id', 'account_id'])['ed_id'].apply(list).reset_index()\n",
    "\n",
    "max_length = ed_id_lists['ed_id'].apply(len).max()\n",
    "ed_id_lists['ed_id'] = ed_id_lists['ed_id'].apply(lambda x: x + [0] * (max_length - len(x)))\n",
    "\n",
    "ed_id_lists"
   ]
  },
  {
   "cell_type": "code",
   "execution_count": 11,
   "id": "92d8bece-0059-48ac-8c6d-7282fc36488b",
   "metadata": {},
   "outputs": [],
   "source": [
    "# the code of Luke, possible future modifications\n",
    "def event_label(x):\n",
    "    act_list = np.array([29,12,15])\n",
    "    ord_list = np.array([7,18])\n",
    "\n",
    "    is_act = False\n",
    "    is_ord = False\n",
    "\n",
    "    # parse and get condition checks\n",
    "    # if any activated, \n",
    "    if any(np.in1d(x,act_list)):\n",
    "        is_act = True\n",
    "    if any(np.in1d(x,ord_list)):\n",
    "        is_ord = True\n",
    "\n",
    "    # activated only\n",
    "    if is_act == True and is_ord == False:\n",
    "        return \"Activated, No Order\"\n",
    "\n",
    "    # ordered only\n",
    "    elif is_act == False and is_ord == True:\n",
    "        return \"Ordered, Not Activated\"\n",
    "\n",
    "    # activated and ordered\n",
    "    elif is_act == True and is_ord == True:\n",
    "        return \"Activated and Ordered\"\n",
    "    \n",
    "    # accounts neither fit\n",
    "    else:\n",
    "        return \"Neither\"\n",
    "\n",
    "# vectorize function\n",
    "event_label_vec = np.vectorize(event_label)"
   ]
  },
  {
   "cell_type": "code",
   "execution_count": 12,
   "id": "34e9c6dd-97d9-453e-a046-cbde5d4a04ee",
   "metadata": {},
   "outputs": [],
   "source": [
    "ed_id_lists[\"customer_label\"] = event_label_vec(ed_id_lists[\"ed_id\"])"
   ]
  },
  {
   "cell_type": "code",
   "execution_count": 13,
   "id": "f973826e-7def-4889-a6cf-d4ec8f119b0e",
   "metadata": {},
   "outputs": [
    {
     "data": {
      "text/html": [
       "<div>\n",
       "<style scoped>\n",
       "    .dataframe tbody tr th:only-of-type {\n",
       "        vertical-align: middle;\n",
       "    }\n",
       "\n",
       "    .dataframe tbody tr th {\n",
       "        vertical-align: top;\n",
       "    }\n",
       "\n",
       "    .dataframe thead th {\n",
       "        text-align: right;\n",
       "    }\n",
       "</style>\n",
       "<table border=\"1\" class=\"dataframe\">\n",
       "  <thead>\n",
       "    <tr style=\"text-align: right;\">\n",
       "      <th></th>\n",
       "      <th>customer_id</th>\n",
       "      <th>account_id</th>\n",
       "      <th>ed_id</th>\n",
       "      <th>customer_label</th>\n",
       "    </tr>\n",
       "  </thead>\n",
       "  <tbody>\n",
       "    <tr>\n",
       "      <th>0</th>\n",
       "      <td>-2133016776</td>\n",
       "      <td>1442088117</td>\n",
       "      <td>[12, 4, 3, 19, 24, 4, 1, 4, 11, 4, 5, 11, 6, 4...</td>\n",
       "      <td>Activated, No Order</td>\n",
       "    </tr>\n",
       "    <tr>\n",
       "      <th>1</th>\n",
       "      <td>-2124872601</td>\n",
       "      <td>1448775641</td>\n",
       "      <td>[29, 19, 19, 19, 19, 19, 19, 3, 12, 5, 5, 4, 4...</td>\n",
       "      <td>Activated and Ordered</td>\n",
       "    </tr>\n",
       "    <tr>\n",
       "      <th>2</th>\n",
       "      <td>-2124427253</td>\n",
       "      <td>-1861676870</td>\n",
       "      <td>[19, 19, 19, 3, 19, 3, 19, 19, 12, 19, 2, 4, 4...</td>\n",
       "      <td>Activated and Ordered</td>\n",
       "    </tr>\n",
       "    <tr>\n",
       "      <th>3</th>\n",
       "      <td>-2103242255</td>\n",
       "      <td>2034732712</td>\n",
       "      <td>[19, 19, 3, 19, 19, 3, 19, 19, 19, 3, 12, 4, 1...</td>\n",
       "      <td>Activated and Ordered</td>\n",
       "    </tr>\n",
       "    <tr>\n",
       "      <th>4</th>\n",
       "      <td>-2101937295</td>\n",
       "      <td>958613450</td>\n",
       "      <td>[2, 6, 19, 19, 3, 19, 19, 3, 19, 19, 3, 19, 19...</td>\n",
       "      <td>Activated, No Order</td>\n",
       "    </tr>\n",
       "  </tbody>\n",
       "</table>\n",
       "</div>"
      ],
      "text/plain": [
       "   customer_id  account_id                                              ed_id  \\\n",
       "0  -2133016776  1442088117  [12, 4, 3, 19, 24, 4, 1, 4, 11, 4, 5, 11, 6, 4...   \n",
       "1  -2124872601  1448775641  [29, 19, 19, 19, 19, 19, 19, 3, 12, 5, 5, 4, 4...   \n",
       "2  -2124427253 -1861676870  [19, 19, 19, 3, 19, 3, 19, 19, 12, 19, 2, 4, 4...   \n",
       "3  -2103242255  2034732712  [19, 19, 3, 19, 19, 3, 19, 19, 19, 3, 12, 4, 1...   \n",
       "4  -2101937295   958613450  [2, 6, 19, 19, 3, 19, 19, 3, 19, 19, 3, 19, 19...   \n",
       "\n",
       "          customer_label  \n",
       "0    Activated, No Order  \n",
       "1  Activated and Ordered  \n",
       "2  Activated and Ordered  \n",
       "3  Activated and Ordered  \n",
       "4    Activated, No Order  "
      ]
     },
     "execution_count": 13,
     "metadata": {},
     "output_type": "execute_result"
    }
   ],
   "source": [
    "ed_id_lists.head()"
   ]
  },
  {
   "cell_type": "code",
   "execution_count": 14,
   "id": "03c9e39a-30d6-4e76-8fdf-ff14614a4f68",
   "metadata": {},
   "outputs": [
    {
     "data": {
      "text/plain": [
       "count                     314\n",
       "unique                      2\n",
       "top       Activated, No Order\n",
       "freq                      224\n",
       "Name: customer_label, dtype: object"
      ]
     },
     "execution_count": 14,
     "metadata": {},
     "output_type": "execute_result"
    }
   ],
   "source": [
    "ed_id_lists['customer_label'].describe()"
   ]
  },
  {
   "cell_type": "code",
   "execution_count": 40,
   "id": "fd21010e-3740-4d1b-8218-67b7dcf26788",
   "metadata": {},
   "outputs": [
    {
     "data": {
      "text/plain": [
       "(314, 4)"
      ]
     },
     "execution_count": 40,
     "metadata": {},
     "output_type": "execute_result"
    }
   ],
   "source": [
    "# turning `customer_label` to true labels\n",
    "codes, uniques = pd.factorize(ed_id_lists['customer_label'])\n",
    "ed_id_lists['customer_label'] = codes\n",
    "ed_id_lists.shape"
   ]
  },
  {
   "cell_type": "code",
   "execution_count": 16,
   "id": "03283dd1-b792-4819-b9f2-60b93b8373fe",
   "metadata": {},
   "outputs": [
    {
     "data": {
      "text/html": [
       "<div>\n",
       "<style scoped>\n",
       "    .dataframe tbody tr th:only-of-type {\n",
       "        vertical-align: middle;\n",
       "    }\n",
       "\n",
       "    .dataframe tbody tr th {\n",
       "        vertical-align: top;\n",
       "    }\n",
       "\n",
       "    .dataframe thead th {\n",
       "        text-align: right;\n",
       "    }\n",
       "</style>\n",
       "<table border=\"1\" class=\"dataframe\">\n",
       "  <thead>\n",
       "    <tr style=\"text-align: right;\">\n",
       "      <th></th>\n",
       "      <th>customer_id</th>\n",
       "      <th>account_id</th>\n",
       "      <th>ed_id</th>\n",
       "      <th>customer_label</th>\n",
       "    </tr>\n",
       "  </thead>\n",
       "  <tbody>\n",
       "    <tr>\n",
       "      <th>0</th>\n",
       "      <td>-2133016776</td>\n",
       "      <td>1442088117</td>\n",
       "      <td>[12, 4, 3, 19, 24, 4, 1, 4, 11, 4, 5, 11, 6, 4...</td>\n",
       "      <td>0</td>\n",
       "    </tr>\n",
       "    <tr>\n",
       "      <th>1</th>\n",
       "      <td>-2124872601</td>\n",
       "      <td>1448775641</td>\n",
       "      <td>[29, 19, 19, 19, 19, 19, 19, 3, 12, 5, 5, 4, 4...</td>\n",
       "      <td>1</td>\n",
       "    </tr>\n",
       "    <tr>\n",
       "      <th>2</th>\n",
       "      <td>-2124427253</td>\n",
       "      <td>-1861676870</td>\n",
       "      <td>[19, 19, 19, 3, 19, 3, 19, 19, 12, 19, 2, 4, 4...</td>\n",
       "      <td>1</td>\n",
       "    </tr>\n",
       "    <tr>\n",
       "      <th>3</th>\n",
       "      <td>-2103242255</td>\n",
       "      <td>2034732712</td>\n",
       "      <td>[19, 19, 3, 19, 19, 3, 19, 19, 19, 3, 12, 4, 1...</td>\n",
       "      <td>1</td>\n",
       "    </tr>\n",
       "    <tr>\n",
       "      <th>4</th>\n",
       "      <td>-2101937295</td>\n",
       "      <td>958613450</td>\n",
       "      <td>[2, 6, 19, 19, 3, 19, 19, 3, 19, 19, 3, 19, 19...</td>\n",
       "      <td>0</td>\n",
       "    </tr>\n",
       "    <tr>\n",
       "      <th>5</th>\n",
       "      <td>-2026925668</td>\n",
       "      <td>-1100126228</td>\n",
       "      <td>[19, 19, 19, 19, 19, 19, 3, 12, 4, 4, 4, 4, 4,...</td>\n",
       "      <td>0</td>\n",
       "    </tr>\n",
       "    <tr>\n",
       "      <th>6</th>\n",
       "      <td>-2020511375</td>\n",
       "      <td>-1948657330</td>\n",
       "      <td>[15, 1, 1, 21, 1, 1, 1, 21, 1, 21, 0, 0, 0, 0,...</td>\n",
       "      <td>0</td>\n",
       "    </tr>\n",
       "    <tr>\n",
       "      <th>7</th>\n",
       "      <td>-2020232094</td>\n",
       "      <td>2097268175</td>\n",
       "      <td>[4, 11, 1, 4, 4, 4, 5, 4, 2, 5, 5, 5, 4, 19, 1...</td>\n",
       "      <td>1</td>\n",
       "    </tr>\n",
       "    <tr>\n",
       "      <th>8</th>\n",
       "      <td>-1999776631</td>\n",
       "      <td>-141087342</td>\n",
       "      <td>[29, 15, 18, 24, 27, 28, 0, 0, 0, 0, 0, 0, 0, ...</td>\n",
       "      <td>1</td>\n",
       "    </tr>\n",
       "    <tr>\n",
       "      <th>9</th>\n",
       "      <td>-1990855982</td>\n",
       "      <td>-1617121722</td>\n",
       "      <td>[1, 29, 15, 18, 27, 28, 0, 0, 0, 0, 0, 0, 0, 0...</td>\n",
       "      <td>1</td>\n",
       "    </tr>\n",
       "  </tbody>\n",
       "</table>\n",
       "</div>"
      ],
      "text/plain": [
       "   customer_id  account_id                                              ed_id  \\\n",
       "0  -2133016776  1442088117  [12, 4, 3, 19, 24, 4, 1, 4, 11, 4, 5, 11, 6, 4...   \n",
       "1  -2124872601  1448775641  [29, 19, 19, 19, 19, 19, 19, 3, 12, 5, 5, 4, 4...   \n",
       "2  -2124427253 -1861676870  [19, 19, 19, 3, 19, 3, 19, 19, 12, 19, 2, 4, 4...   \n",
       "3  -2103242255  2034732712  [19, 19, 3, 19, 19, 3, 19, 19, 19, 3, 12, 4, 1...   \n",
       "4  -2101937295   958613450  [2, 6, 19, 19, 3, 19, 19, 3, 19, 19, 3, 19, 19...   \n",
       "5  -2026925668 -1100126228  [19, 19, 19, 19, 19, 19, 3, 12, 4, 4, 4, 4, 4,...   \n",
       "6  -2020511375 -1948657330  [15, 1, 1, 21, 1, 1, 1, 21, 1, 21, 0, 0, 0, 0,...   \n",
       "7  -2020232094  2097268175  [4, 11, 1, 4, 4, 4, 5, 4, 2, 5, 5, 5, 4, 19, 1...   \n",
       "8  -1999776631  -141087342  [29, 15, 18, 24, 27, 28, 0, 0, 0, 0, 0, 0, 0, ...   \n",
       "9  -1990855982 -1617121722  [1, 29, 15, 18, 27, 28, 0, 0, 0, 0, 0, 0, 0, 0...   \n",
       "\n",
       "   customer_label  \n",
       "0               0  \n",
       "1               1  \n",
       "2               1  \n",
       "3               1  \n",
       "4               0  \n",
       "5               0  \n",
       "6               0  \n",
       "7               1  \n",
       "8               1  \n",
       "9               1  "
      ]
     },
     "execution_count": 16,
     "metadata": {},
     "output_type": "execute_result"
    }
   ],
   "source": [
    "# activated & ordered = 0, activated, no order = 1\n",
    "ed_id_lists.head(10)"
   ]
  },
  {
   "cell_type": "markdown",
   "id": "aa2a34ef-efce-460e-95e6-756779daa333",
   "metadata": {},
   "source": [
    "**Building RNN Model**"
   ]
  },
  {
   "cell_type": "code",
   "execution_count": 75,
   "id": "65e7b697-0bbc-4ccd-bf1c-4f52a8536b31",
   "metadata": {},
   "outputs": [],
   "source": [
    "# adding masks for each observation\n",
    "X = ed_id_lists['ed_id']  # Features\n",
    "X = X.values.tolist()\n",
    "mask = [[1 if x > 0 else x for x in sublist] for sublist in X]\n",
    "y = ed_id_lists['customer_label']  # Target variable\n",
    "y = y.values.tolist()\n",
    "\n",
    "# Split the data into training and testing sets\n",
    "X_train, X_test, y_train, y_test, mask_train, mask_test = train_test_split(X, y, mask, test_size=0.2, random_state=42)"
   ]
  },
  {
   "cell_type": "code",
   "execution_count": 78,
   "id": "982684dc-6800-4e72-872c-23309a444435",
   "metadata": {},
   "outputs": [],
   "source": [
    "train_dset = torch.utils.data.TensorDataset(torch.tensor(X_train,\n",
    "                                                         dtype=torch.long),\n",
    "                                            torch.tensor(y_train,\n",
    "                                                         dtype=torch.long),\n",
    "                                            torch.tensor(mask_train,\n",
    "                                                         dtype=torch.float))\n",
    "\n",
    "test_dset = torch.utils.data.TensorDataset(torch.tensor(X_test,\n",
    "                                                        dtype=torch.long),\n",
    "                                          torch.tensor(y_test,\n",
    "                                                        dtype=torch.long),\n",
    "                                          torch.tensor(mask_test,\n",
    "                                                        dtype=torch.float))"
   ]
  },
  {
   "cell_type": "code",
   "execution_count": 79,
   "id": "43c01968-c03f-44d9-a541-c9fd6a8305d4",
   "metadata": {},
   "outputs": [],
   "source": [
    "# getting data loader for training and predicting process\n",
    "batch_size = 128\n",
    "\n",
    "train_loader = torch.utils.data.DataLoader(train_dset,\n",
    "                          batch_size=batch_size,\n",
    "                          shuffle=True,\n",
    "                          num_workers=2\n",
    "                         )\n",
    "\n",
    "test_loader = torch.utils.data.DataLoader(test_dset,\n",
    "                          batch_size=batch_size,\n",
    "                          shuffle=False,\n",
    "                          num_workers=2\n",
    "                         )"
   ]
  },
  {
   "cell_type": "code",
   "execution_count": 84,
   "id": "14cb9626-7fe3-4f2a-ab74-a5236b6232a1",
   "metadata": {},
   "outputs": [
    {
     "name": "stdout",
     "output_type": "stream",
     "text": [
      "torch.Size([128, 197]) torch.Size([128]) torch.Size([128, 197])\n",
      "tensor([[29, 12,  1,  ...,  0,  0,  0],\n",
      "        [15,  1,  1,  ...,  0,  0,  0],\n",
      "        [19, 19, 19,  ...,  0,  0,  0],\n",
      "        ...,\n",
      "        [19, 19, 19,  ...,  0,  0,  0],\n",
      "        [22,  2, 12,  ...,  0,  0,  0],\n",
      "        [ 1,  1,  1,  ...,  0,  0,  0]])\n",
      "torch.Size([128, 197])\n",
      "tensor([1, 0, 1, 1, 0, 0, 1, 0, 0, 0, 0, 0, 0, 1, 0, 0, 0, 1, 0, 0, 1, 0, 1, 0,\n",
      "        0, 0, 0, 0, 0, 0, 1, 1, 0, 1, 0, 0, 1, 0, 1, 0, 1, 0, 1, 0, 1, 0, 0, 0,\n",
      "        0, 0, 0, 1, 0, 0, 0, 0, 0, 0, 0, 0, 0, 1, 1, 0, 0, 1, 1, 0, 1, 0, 0, 0,\n",
      "        0, 0, 0, 1, 0, 1, 0, 1, 0, 0, 0, 1, 0, 0, 0, 1, 0, 1, 0, 0, 0, 0, 1, 0,\n",
      "        0, 0, 0, 0, 0, 0, 0, 0, 1, 0, 0, 0, 0, 0, 0, 1, 0, 0, 1, 0, 0, 0, 1, 0,\n",
      "        1, 0, 0, 0, 0, 0, 0, 1])\n",
      "torch.Size([128])\n",
      "tensor([[1., 1., 1.,  ..., 0., 0., 0.],\n",
      "        [1., 1., 1.,  ..., 0., 0., 0.],\n",
      "        [1., 1., 1.,  ..., 0., 0., 0.],\n",
      "        ...,\n",
      "        [1., 1., 1.,  ..., 0., 0., 0.],\n",
      "        [1., 1., 1.,  ..., 0., 0., 0.],\n",
      "        [1., 1., 1.,  ..., 0., 0., 0.]])\n",
      "torch.Size([128, 197])\n"
     ]
    }
   ],
   "source": [
    "# small test of correctness\n",
    "x, y, m = next(iter(train_loader))\n",
    "print(x.shape, y.shape, m.shape)\n",
    "\n",
    "print(x)\n",
    "print(x.shape)\n",
    "print(y)\n",
    "print(y.shape)\n",
    "print(m)\n",
    "print(m.shape)"
   ]
  },
  {
   "cell_type": "code",
   "execution_count": 83,
   "id": "5d900e00-e66a-4b53-8601-9f5dd259d322",
   "metadata": {},
   "outputs": [
    {
     "name": "stdout",
     "output_type": "stream",
     "text": [
      "cpu\n"
     ]
    }
   ],
   "source": [
    "device = torch.device(\"cuda\" if torch.cuda.is_available() else \"cpu\")\n",
    "print(device)"
   ]
  },
  {
   "cell_type": "code",
   "execution_count": 85,
   "id": "882156ad-f2e9-4ade-8b18-fa7d87ddfdd6",
   "metadata": {},
   "outputs": [],
   "source": [
    "class RNNClassifier(nn.Module):\n",
    "    def __init__(self, embedding_dim, hidden_dim, vocab_size, \\\n",
    "                 num_rec_layers=1, rec_layer=nn.RNN):\n",
    "        super(RNNClassifier, self).__init__()\n",
    "        # define all layers we need,\n",
    "        # their parameters will be initialized automatically\n",
    "\n",
    "        # nn.Embedding layer turns input sentences into word embeddings\n",
    "        # with input and output dimension given by vocab_size and embedding_dim\n",
    "        # self.word_embeddings = nn.Embedding(embedding_dim)\n",
    "\n",
    "        # depending on the value of num_rec_layers, the corresponding number\n",
    "        # of rec_layers (either RNN or LSTM) with batch_first=True and hidden\n",
    "        # dimension given by hidden_dim\n",
    "        self.word_embeddings = nn.Embedding(vocab_size, embedding_dim)\n",
    "\n",
    "        self.num_rec_layers = num_rec_layers\n",
    "        self.rnn1 = rec_layer(embedding_dim, hidden_dim, batch_first=True)\n",
    "        if self.num_rec_layers == 2:\n",
    "            self.rnn2 = rec_layer(hidden_dim, hidden_dim, batch_first=True)\n",
    "\n",
    "        # a final linear layer with sigmoid activation with input and output\n",
    "        # dimension given by hidden_dim and 1.\n",
    "        self.sigmoid = nn.Sigmoid()\n",
    "        self.hidden2label = nn.Linear(hidden_dim, 1)\n",
    "\n",
    "    def forward(self, sentences, mask):\n",
    "        # sentences shape: [B, L], mask shape: [B, L]\n",
    "        # embedding = word_embeddings(embedding_dim)# call your embedding layer, output shape: [B, L, DE]\n",
    "        embedding = self.word_embeddings(sentences)\n",
    "        out, hidden = self.rnn1(embedding)# call your rnn1, output shape: [B, L, DH]\n",
    "        if self.num_rec_layers == 2:\n",
    "            out, hidden = self.rnn2(out, hidden)# call your rnn2, output shape: [B, L, DH]\n",
    "        out = (out*mask[:, :, None]).mean(dim=1) # shape: [B, DH]\n",
    "        res = self.sigmoid(self.hidden2label(out))# call your hidden2label, output shape: [B, 1]\n",
    "        return res"
   ]
  },
  {
   "cell_type": "code",
   "execution_count": 86,
   "id": "52d3fa8f-9a56-4d14-ad53-f35d61da01a4",
   "metadata": {},
   "outputs": [
    {
     "data": {
      "text/plain": [
       "RNNClassifier(\n",
       "  (word_embeddings): Embedding(500, 128)\n",
       "  (rnn1): RNN(128, 128, batch_first=True)\n",
       "  (sigmoid): Sigmoid()\n",
       "  (hidden2label): Linear(in_features=128, out_features=1, bias=True)\n",
       ")"
      ]
     },
     "execution_count": 86,
     "metadata": {},
     "output_type": "execute_result"
    }
   ],
   "source": [
    "# create a particular instance of the model, do a 1 layer vaniila RNN with embedding_dim=hidden_dim=128\n",
    "rnn = RNNClassifier(128, 128, 500)\n",
    "rnn.to(device)"
   ]
  },
  {
   "cell_type": "code",
   "execution_count": 88,
   "id": "f985106e-b456-4dc0-8194-f2dcc8a81380",
   "metadata": {},
   "outputs": [
    {
     "name": "stdout",
     "output_type": "stream",
     "text": [
      "torch.Size([128, 1])\n",
      "tensor([[0.5108],\n",
      "        [0.5127],\n",
      "        [0.5154],\n",
      "        [0.5106],\n",
      "        [0.5128],\n",
      "        [0.5177],\n",
      "        [0.5006],\n",
      "        [0.4672],\n",
      "        [0.5112],\n",
      "        [0.5112]], grad_fn=<SliceBackward0>)\n"
     ]
    }
   ],
   "source": [
    "# demo forward pass with the mini-batch that we generated above\n",
    "device = torch.device(\"cuda\" if torch.cuda.is_available() else \"cpu\")\n",
    "x = x.to(device)\n",
    "y = y.to(device)\n",
    "m = m.to(device)\n",
    "\n",
    "y_pred = rnn(x, m)\n",
    "print(y_pred.shape)\n",
    "print(y_pred[:10])"
   ]
  },
  {
   "cell_type": "code",
   "execution_count": 89,
   "id": "7889f8b6-9296-4ad0-8a42-e9839ff8e591",
   "metadata": {},
   "outputs": [],
   "source": [
    "learning_rate = 0.001\n",
    "optimizer =optim.RMSprop(rnn.parameters(), lr=learning_rate)\n",
    "\n",
    "lossfun = nn.BCELoss(reduction='mean')"
   ]
  },
  {
   "cell_type": "code",
   "execution_count": 90,
   "id": "96e83d4e-ebe4-4943-8a36-18e171ba063c",
   "metadata": {},
   "outputs": [],
   "source": [
    "def train_epoch(train_loader, model, lossfun, optimizer, device):\n",
    "    model.train()\n",
    "    # iterate over mini-batches\n",
    "    for it, (inputs, labels, mask) in enumerate(train_loader):\n",
    "        # move everything to the device\n",
    "        inputs = inputs.to(device)\n",
    "        labels = labels.to(device)\n",
    "        mask = mask.to(device)\n",
    "\n",
    "        model.zero_grad()\n",
    "        # forward pass\n",
    "        output = model(inputs, mask)\n",
    "\n",
    "        loss = lossfun(output.view(-1), labels.float())\n",
    "        # backward pass\n",
    "        loss.backward()\n",
    "\n",
    "        # update model parameters\n",
    "        optimizer.step()\n",
    "\n",
    "def evaluate(loader, model, lossfun, device):\n",
    "    model.eval()\n",
    "    total_acc = 0.0\n",
    "    total_loss = 0.0\n",
    "    total = 0.0\n",
    "    # iterate over mini-batches\n",
    "    for it, (inputs, labels, mask) in enumerate(loader):\n",
    "        # move everything to the device\n",
    "        inputs = inputs.to(device)\n",
    "        labels = labels.to(device)\n",
    "        mask = mask.to(device)\n",
    "\n",
    "        # forward pass\n",
    "        output = model(inputs, mask)\n",
    "\n",
    "        # calculate loss value\n",
    "        loss = lossfun(output.view(-1), labels.float())\n",
    "        total_loss += loss.item()\n",
    "\n",
    "        # calculate test accuracy\n",
    "        pred = output.view(-1) > 0.5\n",
    "        correct = (pred == labels.bool())\n",
    "        total_acc += torch.sum(correct).item() / len(correct)\n",
    "\n",
    "    total = it + 1\n",
    "    return total_loss / total, total_acc / total\n",
    "\n",
    "\n",
    "def train(train_loader, test_loader, model, lossfun, optimizer, \\\n",
    "          device, num_epochs):\n",
    "    train_loss_ = []\n",
    "    test_loss_ = []\n",
    "    train_acc_ = []\n",
    "    test_acc_ = []\n",
    "    # irerate over training epochs\n",
    "    for epoch in range(num_epochs):\n",
    "        # at each step, we do a training epoch and evaluate on train and test data\n",
    "        train_epoch(train_loader, model, lossfun, optimizer, device)\n",
    "        train_loss, train_acc = evaluate(train_loader, model, lossfun, device)\n",
    "        train_loss_.append(train_loss)\n",
    "        train_acc_.append(train_acc)\n",
    "        test_loss, test_acc = evaluate(test_loader, model, lossfun, device)\n",
    "        test_loss_.append(test_loss)\n",
    "        test_acc_.append(test_acc)\n",
    "\n",
    "        print(f'Epoch: {epoch+1:3d}/{num_epochs:3d} '\n",
    "              f'Training Loss: {train_loss_[epoch]:.3f}, Testing Loss: {test_loss_[epoch]:.3f}, '\n",
    "              f'Training Acc: {train_acc_[epoch]:.3f}, Testing Acc: {test_acc_[epoch]:.3f}')\n",
    "\n",
    "    return train_loss_, train_acc_, test_loss_, test_acc_"
   ]
  },
  {
   "cell_type": "code",
   "execution_count": 91,
   "id": "f1ab2af0-a861-44a8-8b04-0d216fa5285b",
   "metadata": {},
   "outputs": [
    {
     "name": "stdout",
     "output_type": "stream",
     "text": [
      "Epoch:   1/ 30 Training Loss: 0.670, Testing Loss: 0.630, Training Acc: 0.737, Testing Acc: 0.762\n",
      "Epoch:   2/ 30 Training Loss: 0.634, Testing Loss: 0.606, Training Acc: 0.746, Testing Acc: 0.762\n",
      "Epoch:   3/ 30 Training Loss: 0.612, Testing Loss: 0.587, Training Acc: 0.777, Testing Acc: 0.810\n",
      "Epoch:   4/ 30 Training Loss: 0.606, Testing Loss: 0.578, Training Acc: 0.773, Testing Acc: 0.794\n",
      "Epoch:   5/ 30 Training Loss: 0.599, Testing Loss: 0.586, Training Acc: 0.805, Testing Acc: 0.841\n",
      "Epoch:   6/ 30 Training Loss: 0.605, Testing Loss: 0.564, Training Acc: 0.757, Testing Acc: 0.810\n",
      "Epoch:   7/ 30 Training Loss: 0.586, Testing Loss: 0.582, Training Acc: 0.824, Testing Acc: 0.857\n",
      "Epoch:   8/ 30 Training Loss: 0.579, Testing Loss: 0.548, Training Acc: 0.813, Testing Acc: 0.825\n",
      "Epoch:   9/ 30 Training Loss: 0.568, Testing Loss: 0.565, Training Acc: 0.829, Testing Acc: 0.857\n",
      "Epoch:  10/ 30 Training Loss: 0.572, Testing Loss: 0.534, Training Acc: 0.812, Testing Acc: 0.810\n",
      "Epoch:  11/ 30 Training Loss: 0.574, Testing Loss: 0.606, Training Acc: 0.809, Testing Acc: 0.841\n",
      "Epoch:  12/ 30 Training Loss: 0.555, Testing Loss: 0.544, Training Acc: 0.829, Testing Acc: 0.841\n",
      "Epoch:  13/ 30 Training Loss: 0.548, Testing Loss: 0.544, Training Acc: 0.832, Testing Acc: 0.857\n",
      "Epoch:  14/ 30 Training Loss: 0.545, Testing Loss: 0.525, Training Acc: 0.832, Testing Acc: 0.841\n",
      "Epoch:  15/ 30 Training Loss: 0.535, Testing Loss: 0.526, Training Acc: 0.828, Testing Acc: 0.825\n",
      "Epoch:  16/ 30 Training Loss: 0.526, Testing Loss: 0.547, Training Acc: 0.852, Testing Acc: 0.841\n",
      "Epoch:  17/ 30 Training Loss: 0.522, Testing Loss: 0.560, Training Acc: 0.848, Testing Acc: 0.778\n",
      "Epoch:  18/ 30 Training Loss: 0.529, Testing Loss: 0.536, Training Acc: 0.852, Testing Acc: 0.857\n",
      "Epoch:  19/ 30 Training Loss: 0.516, Testing Loss: 0.527, Training Acc: 0.865, Testing Acc: 0.857\n",
      "Epoch:  20/ 30 Training Loss: 0.507, Testing Loss: 0.533, Training Acc: 0.845, Testing Acc: 0.825\n",
      "Epoch:  21/ 30 Training Loss: 0.500, Testing Loss: 0.515, Training Acc: 0.857, Testing Acc: 0.857\n",
      "Epoch:  22/ 30 Training Loss: 0.490, Testing Loss: 0.543, Training Acc: 0.849, Testing Acc: 0.825\n",
      "Epoch:  23/ 30 Training Loss: 0.521, Testing Loss: 0.722, Training Acc: 0.844, Testing Acc: 0.794\n",
      "Epoch:  24/ 30 Training Loss: 0.499, Testing Loss: 0.514, Training Acc: 0.860, Testing Acc: 0.889\n",
      "Epoch:  25/ 30 Training Loss: 0.492, Testing Loss: 0.504, Training Acc: 0.861, Testing Acc: 0.825\n",
      "Epoch:  26/ 30 Training Loss: 0.483, Testing Loss: 0.504, Training Acc: 0.857, Testing Acc: 0.841\n",
      "Epoch:  27/ 30 Training Loss: 0.474, Testing Loss: 0.520, Training Acc: 0.845, Testing Acc: 0.825\n",
      "Epoch:  28/ 30 Training Loss: 0.476, Testing Loss: 0.679, Training Acc: 0.844, Testing Acc: 0.810\n",
      "Epoch:  29/ 30 Training Loss: 0.473, Testing Loss: 0.463, Training Acc: 0.853, Testing Acc: 0.873\n",
      "Epoch:  30/ 30 Training Loss: 0.452, Testing Loss: 0.493, Training Acc: 0.869, Testing Acc: 0.857\n"
     ]
    }
   ],
   "source": [
    "# let's first train a vanilla RNN\n",
    "a, b, c, d = train(train_loader, test_loader, rnn, lossfun, \\\n",
    "                   optimizer, device, num_epochs=30)"
   ]
  }
 ],
 "metadata": {
  "kernelspec": {
   "display_name": "Python 3 (ipykernel)",
   "language": "python",
   "name": "python3"
  },
  "language_info": {
   "codemirror_mode": {
    "name": "ipython",
    "version": 3
   },
   "file_extension": ".py",
   "mimetype": "text/x-python",
   "name": "python",
   "nbconvert_exporter": "python",
   "pygments_lexer": "ipython3",
   "version": "3.10.13"
  }
 },
 "nbformat": 4,
 "nbformat_minor": 5
}
