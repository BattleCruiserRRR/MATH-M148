{
 "cells": [
  {
   "cell_type": "code",
   "execution_count": 22,
   "id": "d7745b99",
   "metadata": {},
   "outputs": [],
   "source": [
    "import pandas as pd"
   ]
  },
  {
   "cell_type": "code",
   "execution_count": 23,
   "id": "964a6308",
   "metadata": {},
   "outputs": [],
   "source": [
    "df = pd.read_csv('export.csv')"
   ]
  },
  {
   "cell_type": "code",
   "execution_count": 24,
   "id": "9778da6c",
   "metadata": {},
   "outputs": [],
   "source": [
    "#Takes long time, prob other method is better lol\n",
    "df['event_timestamp'] = pd.to_datetime(df['event_timestamp'])\n",
    "\n",
    "# Create separate 'Date' column\n",
    "df['Date'] = df['event_timestamp'].dt.date"
   ]
  },
  {
   "cell_type": "code",
   "execution_count": 25,
   "id": "0ac4672b",
   "metadata": {},
   "outputs": [],
   "source": [
    "df = df.drop(['customer_id','event_timestamp','journey_steps_until_end'],axis=1)\n",
    "df['count'] = df.groupby(['account_id','ed_id','Date'])['ed_id'].transform('count')\n",
    "df = df.drop_duplicates(['account_id','ed_id','event_name','Date'])\n"
   ]
  },
  {
   "cell_type": "code",
   "execution_count": 26,
   "id": "0e302fcb",
   "metadata": {},
   "outputs": [],
   "source": [
    "df.to_csv('Fingerhut_modified.csv')"
   ]
  }
 ],
 "metadata": {
  "kernelspec": {
   "display_name": "Python 3 (ipykernel)",
   "language": "python",
   "name": "python3"
  },
  "language_info": {
   "codemirror_mode": {
    "name": "ipython",
    "version": 3
   },
   "file_extension": ".py",
   "mimetype": "text/x-python",
   "name": "python",
   "nbconvert_exporter": "python",
   "pygments_lexer": "ipython3",
   "version": "3.10.11"
  }
 },
 "nbformat": 4,
 "nbformat_minor": 5
}
