{
 "cells": [
  {
   "cell_type": "code",
   "execution_count": 1,
   "id": "dcd572a5-9b74-400f-ac11-2bd82131edf7",
   "metadata": {},
   "outputs": [],
   "source": [
    "import pandas as pd\n",
    "import numpy as np\n",
    "import datetime as dt\n",
    "import math\n",
    "import matplotlib.pyplot as plt\n",
    "\n",
    "from sklearn.model_selection import GridSearchCV, train_test_split\n",
    "from sklearn.metrics import mean_squared_error, mean_absolute_error, make_scorer\n",
    "from sklearn.preprocessing import MinMaxScaler"
   ]
  },
  {
   "cell_type": "code",
   "execution_count": 2,
   "id": "ebfc4aa2-006e-4e34-ae69-20a8da9f1baf",
   "metadata": {},
   "outputs": [],
   "source": [
    "import torch\n",
    "import torch.nn as nn\n",
    "import torch.nn.functional as F\n",
    "import torch.optim as optim"
   ]
  },
  {
   "cell_type": "markdown",
   "id": "f968ee84-c6d6-4d49-997b-1ba341d55fab",
   "metadata": {},
   "source": [
    "**Data Preprocessing Based on Luke's Result**"
   ]
  },
  {
   "cell_type": "code",
   "execution_count": 3,
   "id": "a33fb272-f28d-4286-98d7-4afdd7cf2dc8",
   "metadata": {},
   "outputs": [],
   "source": [
    "f_data = pd.read_csv('no_dup_data.csv')"
   ]
  },
  {
   "cell_type": "code",
   "execution_count": 4,
   "id": "fabdbe2d-bdd2-47c4-b15a-ef76ed4bbd1c",
   "metadata": {
    "scrolled": true
   },
   "outputs": [
    {
     "data": {
      "text/html": [
       "<div>\n",
       "<style scoped>\n",
       "    .dataframe tbody tr th:only-of-type {\n",
       "        vertical-align: middle;\n",
       "    }\n",
       "\n",
       "    .dataframe tbody tr th {\n",
       "        vertical-align: top;\n",
       "    }\n",
       "\n",
       "    .dataframe thead th {\n",
       "        text-align: right;\n",
       "    }\n",
       "</style>\n",
       "<table border=\"1\" class=\"dataframe\">\n",
       "  <thead>\n",
       "    <tr style=\"text-align: right;\">\n",
       "      <th></th>\n",
       "      <th>Unnamed: 0</th>\n",
       "      <th>customer_id</th>\n",
       "      <th>account_id</th>\n",
       "      <th>ed_id</th>\n",
       "      <th>event_name</th>\n",
       "      <th>Date</th>\n",
       "      <th>Time</th>\n",
       "      <th>journey_steps_until_end</th>\n",
       "    </tr>\n",
       "  </thead>\n",
       "  <tbody>\n",
       "    <tr>\n",
       "      <th>0</th>\n",
       "      <td>0</td>\n",
       "      <td>-784961211</td>\n",
       "      <td>1773350293</td>\n",
       "      <td>12</td>\n",
       "      <td>application_web_approved</td>\n",
       "      <td>2023-03-22</td>\n",
       "      <td>08:45:22</td>\n",
       "      <td>1</td>\n",
       "    </tr>\n",
       "    <tr>\n",
       "      <th>1</th>\n",
       "      <td>1</td>\n",
       "      <td>-784961211</td>\n",
       "      <td>1773350293</td>\n",
       "      <td>19</td>\n",
       "      <td>application_web_view</td>\n",
       "      <td>2023-03-22</td>\n",
       "      <td>13:32:10</td>\n",
       "      <td>2</td>\n",
       "    </tr>\n",
       "    <tr>\n",
       "      <th>2</th>\n",
       "      <td>14</td>\n",
       "      <td>-784961211</td>\n",
       "      <td>1773350293</td>\n",
       "      <td>3</td>\n",
       "      <td>application_web_submit</td>\n",
       "      <td>2023-03-22</td>\n",
       "      <td>13:32:10</td>\n",
       "      <td>3</td>\n",
       "    </tr>\n",
       "    <tr>\n",
       "      <th>3</th>\n",
       "      <td>15</td>\n",
       "      <td>-784961211</td>\n",
       "      <td>1773350293</td>\n",
       "      <td>2</td>\n",
       "      <td>campaign_click</td>\n",
       "      <td>2023-03-22</td>\n",
       "      <td>14:45:22</td>\n",
       "      <td>4</td>\n",
       "    </tr>\n",
       "    <tr>\n",
       "      <th>4</th>\n",
       "      <td>16</td>\n",
       "      <td>-784961211</td>\n",
       "      <td>1773350293</td>\n",
       "      <td>19</td>\n",
       "      <td>application_web_view</td>\n",
       "      <td>2023-07-27</td>\n",
       "      <td>14:57:56</td>\n",
       "      <td>5</td>\n",
       "    </tr>\n",
       "    <tr>\n",
       "      <th>5</th>\n",
       "      <td>21</td>\n",
       "      <td>-784961211</td>\n",
       "      <td>1773350293</td>\n",
       "      <td>19</td>\n",
       "      <td>application_web_view</td>\n",
       "      <td>2023-08-29</td>\n",
       "      <td>16:01:06</td>\n",
       "      <td>6</td>\n",
       "    </tr>\n",
       "    <tr>\n",
       "      <th>6</th>\n",
       "      <td>24</td>\n",
       "      <td>15849251</td>\n",
       "      <td>383997507</td>\n",
       "      <td>4</td>\n",
       "      <td>browse_products</td>\n",
       "      <td>2021-11-04</td>\n",
       "      <td>14:11:15</td>\n",
       "      <td>1</td>\n",
       "    </tr>\n",
       "    <tr>\n",
       "      <th>7</th>\n",
       "      <td>25</td>\n",
       "      <td>15849251</td>\n",
       "      <td>383997507</td>\n",
       "      <td>4</td>\n",
       "      <td>browse_products</td>\n",
       "      <td>2021-11-04</td>\n",
       "      <td>14:11:29</td>\n",
       "      <td>2</td>\n",
       "    </tr>\n",
       "    <tr>\n",
       "      <th>8</th>\n",
       "      <td>26</td>\n",
       "      <td>15849251</td>\n",
       "      <td>383997507</td>\n",
       "      <td>4</td>\n",
       "      <td>browse_products</td>\n",
       "      <td>2021-11-04</td>\n",
       "      <td>14:12:10</td>\n",
       "      <td>3</td>\n",
       "    </tr>\n",
       "    <tr>\n",
       "      <th>9</th>\n",
       "      <td>27</td>\n",
       "      <td>15849251</td>\n",
       "      <td>383997507</td>\n",
       "      <td>4</td>\n",
       "      <td>browse_products</td>\n",
       "      <td>2021-11-04</td>\n",
       "      <td>14:12:21</td>\n",
       "      <td>4</td>\n",
       "    </tr>\n",
       "  </tbody>\n",
       "</table>\n",
       "</div>"
      ],
      "text/plain": [
       "   Unnamed: 0  customer_id  account_id  ed_id                event_name  \\\n",
       "0           0   -784961211  1773350293     12  application_web_approved   \n",
       "1           1   -784961211  1773350293     19      application_web_view   \n",
       "2          14   -784961211  1773350293      3    application_web_submit   \n",
       "3          15   -784961211  1773350293      2            campaign_click   \n",
       "4          16   -784961211  1773350293     19      application_web_view   \n",
       "5          21   -784961211  1773350293     19      application_web_view   \n",
       "6          24     15849251   383997507      4           browse_products   \n",
       "7          25     15849251   383997507      4           browse_products   \n",
       "8          26     15849251   383997507      4           browse_products   \n",
       "9          27     15849251   383997507      4           browse_products   \n",
       "\n",
       "         Date      Time  journey_steps_until_end  \n",
       "0  2023-03-22  08:45:22                        1  \n",
       "1  2023-03-22  13:32:10                        2  \n",
       "2  2023-03-22  13:32:10                        3  \n",
       "3  2023-03-22  14:45:22                        4  \n",
       "4  2023-07-27  14:57:56                        5  \n",
       "5  2023-08-29  16:01:06                        6  \n",
       "6  2021-11-04  14:11:15                        1  \n",
       "7  2021-11-04  14:11:29                        2  \n",
       "8  2021-11-04  14:12:10                        3  \n",
       "9  2021-11-04  14:12:21                        4  "
      ]
     },
     "execution_count": 4,
     "metadata": {},
     "output_type": "execute_result"
    }
   ],
   "source": [
    "f_data.head(10)"
   ]
  },
  {
   "cell_type": "code",
   "execution_count": 5,
   "id": "fd714221-0ede-4525-83fa-bed66ab32efe",
   "metadata": {},
   "outputs": [
    {
     "data": {
      "text/plain": [
       "(55853910, 8)"
      ]
     },
     "execution_count": 5,
     "metadata": {},
     "output_type": "execute_result"
    }
   ],
   "source": [
    "f_data.shape"
   ]
  },
  {
   "cell_type": "code",
   "execution_count": 6,
   "id": "24a7b544-2038-473d-b620-e1c7363e4a8b",
   "metadata": {},
   "outputs": [],
   "source": [
    "# a helper function to randomly sample from the original data for further RNN \n",
    "def bagging_func(n, whole_data):\n",
    "    account_ids = whole_data['account_id'].unique()\n",
    "    \n",
    "    sub_account_id = np.random.choice(account_ids, size=n, replace=False)\n",
    "    sample_f_data = whole_data[whole_data['account_id'].isin(sub_account_id)]\n",
    "\n",
    "    return sample_f_data"
   ]
  },
  {
   "cell_type": "code",
   "execution_count": 7,
   "id": "3dc32d89-12a0-4bd1-9858-cbc3382038e7",
   "metadata": {
    "scrolled": true
   },
   "outputs": [],
   "source": [
    "# getting all journeys for each account\n",
    "def journey_list(sample_f_data):\n",
    "    ed_id_lists = sample_f_data.groupby(['account_id'])['ed_id'].apply(list).reset_index()\n",
    "    \n",
    "    max_length = ed_id_lists['ed_id'].apply(len).max()\n",
    "    ed_id_lists['ed_id'] = ed_id_lists['ed_id'].apply(lambda x: x + [0] * (max_length - len(x)))\n",
    "    \n",
    "    return ed_id_lists"
   ]
  },
  {
   "cell_type": "code",
   "execution_count": 8,
   "id": "92d8bece-0059-48ac-8c6d-7282fc36488b",
   "metadata": {},
   "outputs": [],
   "source": [
    "# the code of Luke, possible future modifications, which defines what is the ultimate result\n",
    "def event_label(x):\n",
    "    act_list = np.array([29,12,15])\n",
    "    ord_list = np.array([7,18])\n",
    "\n",
    "    is_act = False\n",
    "    is_ord = False\n",
    "\n",
    "    # parse and get condition checks\n",
    "    # if any activated, \n",
    "    if any(np.in1d(x,act_list)):\n",
    "        is_act = True\n",
    "    if any(np.in1d(x,ord_list)):\n",
    "        is_ord = True\n",
    "\n",
    "    # activated only\n",
    "    if is_act == True and is_ord == False:\n",
    "        return \"Activated, No Order\"\n",
    "\n",
    "    # ordered only\n",
    "    elif is_act == False and is_ord == True:\n",
    "        return \"Ordered, Not Activated\"\n",
    "\n",
    "    # activated and ordered\n",
    "    elif is_act == True and is_ord == True:\n",
    "        return \"Activated and Ordered\"\n",
    "    \n",
    "    # accounts neither fit\n",
    "    else:\n",
    "        return \"Neither\"\n",
    "\n",
    "# vectorize function\n",
    "event_label_vec = np.vectorize(event_label)"
   ]
  },
  {
   "cell_type": "code",
   "execution_count": 9,
   "id": "f63518b0-8b91-4340-adf0-990693159d9b",
   "metadata": {},
   "outputs": [],
   "source": [
    "# discard useless labels, getting only the necessary labels for RNN model\n",
    "def binary_labels(ed_id_lists):\n",
    "    necessary_labels = [\"Activated, No Order\", \"Activated and Ordered\"]\n",
    "    ed_id_lists = ed_id_lists[ed_id_lists['customer_label'].isin(necessary_labels)]\n",
    "\n",
    "    return ed_id_lists"
   ]
  },
  {
   "cell_type": "code",
   "execution_count": 10,
   "id": "fd21010e-3740-4d1b-8218-67b7dcf26788",
   "metadata": {},
   "outputs": [],
   "source": [
    "# turning `customer_label` to true labels\n",
    "def true_labels(ed_id_lists):\n",
    "    codes, uniques = pd.factorize(ed_id_lists['customer_label'])\n",
    "    ed_id_lists['customer_label'] = codes\n",
    "\n",
    "    return ed_id_lists"
   ]
  },
  {
   "cell_type": "code",
   "execution_count": 11,
   "id": "ba7ec494-6f9a-4d51-9e94-cc2fda1ae044",
   "metadata": {},
   "outputs": [],
   "source": [
    "# combining the previous functions together\n",
    "def preprocessing(n, f_data):\n",
    "    sample_f_data = bagging_func(n, f_data)\n",
    "    sample_f_data = sample_f_data[['customer_id', 'account_id', 'ed_id', 'journey_steps_until_end']]\n",
    "    \n",
    "    ed_id_lists = journey_list(sample_f_data)\n",
    "    ed_id_lists[\"customer_label\"] = event_label_vec(ed_id_lists[\"ed_id\"])\n",
    "\n",
    "    ed_id_lists = binary_labels(ed_id_lists)\n",
    "    ed_id_lists = true_labels(ed_id_lists)\n",
    "\n",
    "    return ed_id_lists"
   ]
  },
  {
   "cell_type": "markdown",
   "id": "aa2a34ef-efce-460e-95e6-756779daa333",
   "metadata": {},
   "source": [
    "**Building RNN Model**"
   ]
  },
  {
   "cell_type": "code",
   "execution_count": 12,
   "id": "65e7b697-0bbc-4ccd-bf1c-4f52a8536b31",
   "metadata": {},
   "outputs": [],
   "source": [
    "def data_loader(input_lists, split = 0.2):\n",
    "    # adding masks for each observation\n",
    "    X = input_lists['ed_id']  # Features\n",
    "    X = X.values.tolist()\n",
    "    mask = [[1 if x > 0 else x for x in sublist] for sublist in X]\n",
    "    y = input_lists['customer_label']  # Target variable\n",
    "    y = y.values.tolist()\n",
    "    \n",
    "    # Split the data into training and testing sets\n",
    "    X_train, X_test, y_train, y_test, mask_train, mask_test = train_test_split(X, y, mask, test_size=split, random_state=42)\n",
    "\n",
    "    train_dset = torch.utils.data.TensorDataset(torch.tensor(X_train,\n",
    "                                                         dtype=torch.long),\n",
    "                                            torch.tensor(y_train,\n",
    "                                                         dtype=torch.long),\n",
    "                                            torch.tensor(mask_train,\n",
    "                                                         dtype=torch.float))\n",
    "\n",
    "    test_dset = torch.utils.data.TensorDataset(torch.tensor(X_test,\n",
    "                                                            dtype=torch.long),\n",
    "                                              torch.tensor(y_test,\n",
    "                                                            dtype=torch.long),\n",
    "                                              torch.tensor(mask_test,\n",
    "                                                            dtype=torch.float))\n",
    "    \n",
    "    # getting data loader for training and predicting process\n",
    "    batch_size = 128\n",
    "    \n",
    "    train_loader = torch.utils.data.DataLoader(train_dset,\n",
    "                              batch_size=batch_size,\n",
    "                              shuffle=True,\n",
    "                              num_workers=2\n",
    "                             )\n",
    "    \n",
    "    test_loader = torch.utils.data.DataLoader(test_dset,\n",
    "                              batch_size=batch_size,\n",
    "                              shuffle=False,\n",
    "                              num_workers=2\n",
    "                             )\n",
    "\n",
    "    return train_loader, test_loader"
   ]
  },
  {
   "cell_type": "code",
   "execution_count": 13,
   "id": "882156ad-f2e9-4ade-8b18-fa7d87ddfdd6",
   "metadata": {},
   "outputs": [],
   "source": [
    "class RNNClassifier(nn.Module):\n",
    "    def __init__(self, embedding_dim, hidden_dim, vocab_size, \\\n",
    "                 num_rec_layers=1, rec_layer=nn.RNN):\n",
    "        super(RNNClassifier, self).__init__()\n",
    "        # define all layers we need,\n",
    "        # their parameters will be initialized automatically\n",
    "\n",
    "        # nn.Embedding layer turns input sentences into word embeddings\n",
    "        # with input and output dimension given by vocab_size and embedding_dim\n",
    "        # self.word_embeddings = nn.Embedding(embedding_dim)\n",
    "\n",
    "        # depending on the value of num_rec_layers, the corresponding number\n",
    "        # of rec_layers (either RNN or LSTM) with batch_first=True and hidden\n",
    "        # dimension given by hidden_dim\n",
    "        self.word_embeddings = nn.Embedding(vocab_size, embedding_dim)\n",
    "\n",
    "        self.num_rec_layers = num_rec_layers\n",
    "        self.rnn1 = rec_layer(embedding_dim, hidden_dim, batch_first=True)\n",
    "        if self.num_rec_layers == 2:\n",
    "            self.rnn2 = rec_layer(hidden_dim, hidden_dim, batch_first=True)\n",
    "\n",
    "        # a final linear layer with sigmoid activation with input and output\n",
    "        # dimension given by hidden_dim and 1.\n",
    "        self.sigmoid = nn.Sigmoid()\n",
    "        self.hidden2label = nn.Linear(hidden_dim, 1)\n",
    "\n",
    "    def forward(self, sentences, mask):\n",
    "        # sentences shape: [B, L], mask shape: [B, L]\n",
    "        # embedding = word_embeddings(embedding_dim)# call your embedding layer, output shape: [B, L, DE]\n",
    "        embedding = self.word_embeddings(sentences)\n",
    "        out, hidden = self.rnn1(embedding)# call your rnn1, output shape: [B, L, DH]\n",
    "        if self.num_rec_layers == 2:\n",
    "            out, hidden = self.rnn2(out, hidden)# call your rnn2, output shape: [B, L, DH]\n",
    "        out = (out*mask[:, :, None]).mean(dim=1) # shape: [B, DH]\n",
    "        res = self.sigmoid(self.hidden2label(out))# call your hidden2label, output shape: [B, 1]\n",
    "        #print(res)\n",
    "        #print(res.shape)\n",
    "        return res"
   ]
  },
  {
   "cell_type": "code",
   "execution_count": 24,
   "id": "16b94e66-07fb-45b4-a602-08677a80d12b",
   "metadata": {},
   "outputs": [],
   "source": [
    "class Ensemble(nn.Module):\n",
    "    def __init__(self, net, num_ensemble=5, seed_val=42):\n",
    "        super(Ensemble, self).__init__()\n",
    "        self.ensembles = nn.ModuleList()\n",
    "        self.sigmoid = nn.Sigmoid()\n",
    "        self.num = num_ensemble\n",
    "        \n",
    "        for i in range(num_ensemble):\n",
    "          torch.manual_seed(seed_val*i+1)\n",
    "          if torch.cuda.is_available(): # To randomize init of NNs for Ensembles\n",
    "              torch.cuda.manual_seed(seed_val*i+1)\n",
    "          self.ensembles.append(net[i])\n",
    "        \n",
    "        self.final = nn.Linear(num_ensemble, 1)\n",
    "        \n",
    "    def forward(self, x1, x2):\n",
    "        x = []\n",
    "        for i in range(self.num):\n",
    "            output = self.ensembles[i](x1, x2)\n",
    "            x.append(output)\n",
    "            \n",
    "        x = torch.cat(x, dim=1)\n",
    "        x = self.sigmoid(self.final(x))\n",
    "\n",
    "        return x"
   ]
  },
  {
   "cell_type": "markdown",
   "id": "0af841c1-d710-4237-a89c-8d976a0af91b",
   "metadata": {},
   "source": [
    "**A small testing example**"
   ]
  },
  {
   "cell_type": "code",
   "execution_count": 144,
   "id": "94fd2564-6e3c-4ba3-abdf-c5a10c9cff7d",
   "metadata": {
    "scrolled": true
   },
   "outputs": [],
   "source": [
    "# take part of the dataset\n",
    "ed_id_lists = preprocessing(1000, f_data)"
   ]
  },
  {
   "cell_type": "code",
   "execution_count": 51,
   "id": "8272b210-310a-4deb-9ea1-7d2b8d936368",
   "metadata": {},
   "outputs": [
    {
     "data": {
      "text/plain": [
       "array([0, 1])"
      ]
     },
     "execution_count": 51,
     "metadata": {},
     "output_type": "execute_result"
    }
   ],
   "source": [
    "ed_id_lists.customer_label.unique()"
   ]
  },
  {
   "cell_type": "code",
   "execution_count": 52,
   "id": "03c9e39a-30d6-4e76-8fdf-ff14614a4f68",
   "metadata": {
    "scrolled": true
   },
   "outputs": [
    {
     "data": {
      "text/plain": [
       "count    1000.000000\n",
       "mean        0.226000\n",
       "std         0.418448\n",
       "min         0.000000\n",
       "25%         0.000000\n",
       "50%         0.000000\n",
       "75%         0.000000\n",
       "max         1.000000\n",
       "Name: customer_label, dtype: float64"
      ]
     },
     "execution_count": 52,
     "metadata": {},
     "output_type": "execute_result"
    }
   ],
   "source": [
    "ed_id_lists['customer_label'].describe()"
   ]
  },
  {
   "cell_type": "code",
   "execution_count": 53,
   "id": "43c01968-c03f-44d9-a541-c9fd6a8305d4",
   "metadata": {},
   "outputs": [],
   "source": [
    "train_loader, test_loader = data_loader(ed_id_lists, split = 0.2)"
   ]
  },
  {
   "cell_type": "code",
   "execution_count": 74,
   "id": "14cb9626-7fe3-4f2a-ab74-a5236b6232a1",
   "metadata": {},
   "outputs": [
    {
     "name": "stdout",
     "output_type": "stream",
     "text": [
      "torch.Size([128, 660]) torch.Size([128]) torch.Size([128, 660])\n"
     ]
    }
   ],
   "source": [
    "# small test of correctness\n",
    "x, y, m = next(iter(train_loader))\n",
    "print(x.shape, y.shape, m.shape)\n",
    "\n",
    "# print(x)\n",
    "# print(x.shape)\n",
    "# print(y)\n",
    "# print(y.shape)\n",
    "# print(m)\n",
    "# print(m.shape)"
   ]
  },
  {
   "cell_type": "code",
   "execution_count": 56,
   "id": "f985106e-b456-4dc0-8194-f2dcc8a81380",
   "metadata": {},
   "outputs": [
    {
     "name": "stdout",
     "output_type": "stream",
     "text": [
      "torch.Size([128, 1])\n",
      "tensor([[0.4304],\n",
      "        [0.4305],\n",
      "        [0.4304],\n",
      "        [0.4304],\n",
      "        [0.4305],\n",
      "        [0.4305],\n",
      "        [0.4305],\n",
      "        [0.4307],\n",
      "        [0.4305],\n",
      "        [0.4306]], grad_fn=<SliceBackward0>)\n"
     ]
    }
   ],
   "source": [
    "# demo forward pass with the mini-batch that we generated above\n",
    "device = torch.device(\"cuda\" if torch.cuda.is_available() else \"cpu\")\n",
    "x = x.to(device)\n",
    "y = y.to(device)\n",
    "m = m.to(device)\n",
    "\n",
    "y_pred = rnn(x, m)\n",
    "print(y_pred.shape)\n",
    "print(y_pred[:10])"
   ]
  },
  {
   "cell_type": "markdown",
   "id": "322ab2d1-5eaa-4be6-827c-74d421976901",
   "metadata": {},
   "source": [
    "**Actual Training / Testing Approach**"
   ]
  },
  {
   "cell_type": "code",
   "execution_count": 91,
   "id": "96e83d4e-ebe4-4943-8a36-18e171ba063c",
   "metadata": {},
   "outputs": [],
   "source": [
    "def train_epoch(train_loader, model, lossfun, optimizer, device):\n",
    "    model.train()\n",
    "    # iterate over mini-batches\n",
    "    for it, (inputs, labels, mask) in enumerate(train_loader):\n",
    "        # move everything to the device\n",
    "        inputs = inputs.to(device)\n",
    "        labels = labels.to(device)\n",
    "        mask = mask.to(device)\n",
    "\n",
    "        model.zero_grad()\n",
    "        # forward pass\n",
    "        output = model(inputs, mask)\n",
    "        #print(output)\n",
    "        #print(output.size())\n",
    "        #print(it)\n",
    "\n",
    "        loss = lossfun(output.view(-1), labels.float())\n",
    "        # backward pass\n",
    "        loss.backward()\n",
    "\n",
    "        # update model parameters\n",
    "        optimizer.step()\n",
    "\n",
    "def evaluate(loader, model, lossfun, device):\n",
    "    model.eval()\n",
    "    total_acc = 0.0\n",
    "    total_loss = 0.0\n",
    "    total = 0.0\n",
    "    # iterate over mini-batches\n",
    "    for it, (inputs, labels, mask) in enumerate(loader):\n",
    "        # move everything to the device\n",
    "        inputs = inputs.to(device)\n",
    "        labels = labels.to(device)\n",
    "        mask = mask.to(device)\n",
    "\n",
    "        # forward pass\n",
    "        output = model(inputs, mask)\n",
    "\n",
    "        # calculate loss value\n",
    "        loss = lossfun(output.view(-1), labels.float())\n",
    "        total_loss += loss.item()\n",
    "\n",
    "        # calculate test accuracy\n",
    "        pred = output.view(-1) > 0.5\n",
    "        correct = (pred == labels.bool())\n",
    "        total_acc += torch.sum(correct).item() / len(correct)\n",
    "\n",
    "    total = it + 1\n",
    "    return total_loss / total, total_acc / total\n",
    "\n",
    "\n",
    "def train(train_loader, test_loader, model, lossfun, optimizer, \\\n",
    "          device, num_epochs):\n",
    "    train_loss_ = []\n",
    "    test_loss_ = []\n",
    "    train_acc_ = []\n",
    "    test_acc_ = []\n",
    "    # irerate over training epochs\n",
    "    for epoch in range(num_epochs):\n",
    "        # at each step, we do a training epoch and evaluate on train and test data\n",
    "        train_epoch(train_loader, model, lossfun, optimizer, device)\n",
    "        train_loss, train_acc = evaluate(train_loader, model, lossfun, device)\n",
    "        train_loss_.append(train_loss)\n",
    "        train_acc_.append(train_acc)\n",
    "        test_loss, test_acc = evaluate(test_loader, model, lossfun, device)\n",
    "        test_loss_.append(test_loss)\n",
    "        test_acc_.append(test_acc)\n",
    "\n",
    "        print(f'Epoch: {epoch+1:3d}/{num_epochs:3d} '\n",
    "              f'Training Loss: {train_loss_[epoch]:.3f}, Testing Loss: {test_loss_[epoch]:.3f}, '\n",
    "              f'Training Acc: {train_acc_[epoch]:.3f}, Testing Acc: {test_acc_[epoch]:.3f}')\n",
    "\n",
    "    return train_loss_, train_acc_, test_loss_, test_acc_"
   ]
  },
  {
   "cell_type": "code",
   "execution_count": 88,
   "id": "52d3fa8f-9a56-4d14-ad53-f35d61da01a4",
   "metadata": {},
   "outputs": [
    {
     "name": "stdout",
     "output_type": "stream",
     "text": [
      "cpu\n"
     ]
    }
   ],
   "source": [
    "# create a particular instance of the model, do a 1 layer vaniila RNN with embedding_dim=hidden_dim=128\n",
    "device = torch.device(\"cuda\" if torch.cuda.is_available() else \"cpu\")\n",
    "print(device)\n",
    "\n",
    "rnn1 = RNNClassifier(128, 128, 500)\n",
    "rnn2 = RNNClassifier(128, 64, 500, num_rec_layers=2)\n",
    "#rnn3 = RNNClassifier(128, 256, 500)\n",
    "\n",
    "rnn1.to(device)\n",
    "rnn2.to(device)\n",
    "#rnn3.to(device)\n",
    "num_of_bagging = 2\n",
    "\n",
    "rnn_list = [rnn1, rnn2]\n",
    "\n",
    "rnn = Ensemble(rnn_list, num_of_bagging)"
   ]
  },
  {
   "cell_type": "code",
   "execution_count": 89,
   "id": "1b907f12-45c1-4652-ae39-1a07369c7d65",
   "metadata": {},
   "outputs": [],
   "source": [
    "ed_id_lists = preprocessing(3000, f_data)\n",
    "train_loader, test_loader = data_loader(ed_id_lists, split = 0.2)"
   ]
  },
  {
   "cell_type": "code",
   "execution_count": 90,
   "id": "7889f8b6-9296-4ad0-8a42-e9839ff8e591",
   "metadata": {},
   "outputs": [],
   "source": [
    "learning_rate = 0.01\n",
    "optimizer =optim.RMSprop(rnn.parameters(), lr=learning_rate)\n",
    "\n",
    "lossfun = nn.BCELoss(reduction='mean')"
   ]
  },
  {
   "cell_type": "code",
   "execution_count": 92,
   "id": "f1ab2af0-a861-44a8-8b04-0d216fa5285b",
   "metadata": {
    "scrolled": true
   },
   "outputs": [
    {
     "name": "stdout",
     "output_type": "stream",
     "text": [
      "Epoch:   1/ 15 Training Loss: 0.453, Testing Loss: 0.448, Training Acc: 0.782, Testing Acc: 0.794\n",
      "Epoch:   2/ 15 Training Loss: 0.399, Testing Loss: 0.406, Training Acc: 0.784, Testing Acc: 0.790\n",
      "Epoch:   3/ 15 Training Loss: 0.369, Testing Loss: 0.378, Training Acc: 0.799, Testing Acc: 0.809\n",
      "Epoch:   4/ 15 Training Loss: 0.345, Testing Loss: 0.354, Training Acc: 0.820, Testing Acc: 0.829\n",
      "Epoch:   5/ 15 Training Loss: 0.322, Testing Loss: 0.335, Training Acc: 0.848, Testing Acc: 0.851\n",
      "Epoch:   6/ 15 Training Loss: 0.286, Testing Loss: 0.302, Training Acc: 0.885, Testing Acc: 0.872\n",
      "Epoch:   7/ 15 Training Loss: 0.259, Testing Loss: 0.273, Training Acc: 0.905, Testing Acc: 0.893\n",
      "Epoch:   8/ 15 Training Loss: 0.240, Testing Loss: 0.253, Training Acc: 0.910, Testing Acc: 0.902\n",
      "Epoch:   9/ 15 Training Loss: 0.217, Testing Loss: 0.234, Training Acc: 0.929, Testing Acc: 0.922\n",
      "Epoch:  10/ 15 Training Loss: 0.202, Testing Loss: 0.223, Training Acc: 0.952, Testing Acc: 0.932\n",
      "Epoch:  11/ 15 Training Loss: 0.191, Testing Loss: 0.206, Training Acc: 0.945, Testing Acc: 0.938\n",
      "Epoch:  12/ 15 Training Loss: 0.175, Testing Loss: 0.195, Training Acc: 0.963, Testing Acc: 0.942\n",
      "Epoch:  13/ 15 Training Loss: 0.165, Testing Loss: 0.186, Training Acc: 0.962, Testing Acc: 0.941\n",
      "Epoch:  14/ 15 Training Loss: 0.150, Testing Loss: 0.170, Training Acc: 0.971, Testing Acc: 0.955\n",
      "Epoch:  15/ 15 Training Loss: 0.131, Testing Loss: 0.151, Training Acc: 0.981, Testing Acc: 0.963\n"
     ]
    }
   ],
   "source": [
    "# let's first train a vanilla RNN\n",
    "num_of_iter = 15\n",
    "a, b, c, d = train(train_loader, test_loader, rnn, lossfun, \\\n",
    "                   optimizer, device, num_epochs=num_of_iter)"
   ]
  },
  {
   "cell_type": "code",
   "execution_count": 105,
   "id": "f435593f-97b5-4de7-bd00-c59e68728cd0",
   "metadata": {},
   "outputs": [
    {
     "data": {
      "image/png": "[encoded data removed]",
      "text/plain": [
       "<Figure size 1000x600 with 1 Axes>"
      ]
     },
     "metadata": {},
     "output_type": "display_data"
    }
   ],
   "source": [
    "iterations = list(range(num_of_iter))\n",
    "\n",
    "plt.figure(figsize=(10, 6))\n",
    "plt.plot(iterations, a, label='Training Loss', marker='o')\n",
    "plt.plot(iterations, c, label='Testing Loss', marker='s')\n",
    "plt.title('Training and Testing Loss over Iterations')\n",
    "plt.xlabel('Iteration')\n",
    "plt.ylabel('Loss')\n",
    "plt.legend()\n",
    "plt.grid(True)\n",
    "plt.show()"
   ]
  },
  {
   "cell_type": "code",
   "execution_count": 106,
   "id": "86c4e7ef-4c7d-436d-889a-9bd1589a074d",
   "metadata": {},
   "outputs": [
    {
     "data": {
      "image/png": "[encoded data removed]",
      "text/plain": [
       "<Figure size 1000x600 with 1 Axes>"
      ]
     },
     "metadata": {},
     "output_type": "display_data"
    }
   ],
   "source": [
    "plt.figure(figsize=(10, 6))\n",
    "plt.plot(iterations, b, label='Training Accuracy', marker='o')\n",
    "plt.plot(iterations, d, label='Testing Accuracy', marker='s')\n",
    "plt.title('Training and Testing Accuracy over Iterations')\n",
    "plt.xlabel('Iteration')\n",
    "plt.ylabel('Loss')\n",
    "plt.legend()\n",
    "plt.grid(True)\n",
    "plt.show()"
   ]
  },
  {
   "cell_type": "markdown",
   "id": "fef7b5aa-fd29-401b-8861-251b4c026f09",
   "metadata": {},
   "source": [
    "**Testing Luke's data**"
   ]
  },
  {
   "cell_type": "code",
   "execution_count": 111,
   "id": "46cd4050-5634-4d9f-95a0-6cbfc7f8d381",
   "metadata": {},
   "outputs": [],
   "source": [
    "test_data = pd.read_csv('Luke/export_preds.csv')"
   ]
  },
  {
   "cell_type": "code",
   "execution_count": 125,
   "id": "fa4d1a4d-b8cb-4ae6-a9a6-092681f3433f",
   "metadata": {},
   "outputs": [],
   "source": [
    "account_list = test_data['account_id'].unique()"
   ]
  },
  {
   "cell_type": "code",
   "execution_count": 142,
   "id": "b8e619bf-4a2f-4b5c-8414-836dc0dbedc3",
   "metadata": {},
   "outputs": [],
   "source": [
    "extracted_test_data = f_data[f_data['account_id'].isin(account_list)]"
   ]
  },
  {
   "cell_type": "code",
   "execution_count": 143,
   "id": "8003ddaa-6474-4f94-a2bf-59fb4f5e65bc",
   "metadata": {},
   "outputs": [
    {
     "data": {
      "image/png": "[encoded data removed]",
      "text/plain": [
       "<Figure size 1000x600 with 1 Axes>"
      ]
     },
     "metadata": {},
     "output_type": "display_data"
    }
   ],
   "source": [
    "test_acc_list = []\n",
    "iterations = list(range(10))\n",
    "\n",
    "for i in range(len(iterations)):\n",
    "    new_ed_id_lists = preprocessing(3000, extracted_test_data)\n",
    "    new_train_loader, new_test_loader = data_loader(new_ed_id_lists, split = 0.2)\n",
    "    test_loss, test_acc = evaluate(new_train_loader, rnn, lossfun, device)\n",
    "    test_acc_list.append(test_acc)\n",
    "\n",
    "plt.figure(figsize=(10, 6))\n",
    "plt.plot(iterations, test_acc_list, label='Outer Test Accuracy', marker='o')\n",
    "plt.xlabel('Iteration')\n",
    "plt.ylabel('Loss')\n",
    "plt.legend()\n",
    "plt.grid(True)\n",
    "plt.show()"
   ]
  }
 ],
 "metadata": {
  "kernelspec": {
   "display_name": "Python 3 (ipykernel)",
   "language": "python",
   "name": "python3"
  },
  "language_info": {
   "codemirror_mode": {
    "name": "ipython",
    "version": 3
   },
   "file_extension": ".py",
   "mimetype": "text/x-python",
   "name": "python",
   "nbconvert_exporter": "python",
   "pygments_lexer": "ipython3",
   "version": "3.10.13"
  }
 },
 "nbformat": 4,
 "nbformat_minor": 5
}
